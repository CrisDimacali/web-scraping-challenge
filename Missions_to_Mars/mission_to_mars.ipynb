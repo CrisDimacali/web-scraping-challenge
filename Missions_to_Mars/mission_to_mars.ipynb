{
 "cells": [
  {
   "cell_type": "code",
   "execution_count": 14,
   "metadata": {},
   "outputs": [],
   "source": [
    "\n",
    "# Step 1 - Complete your initial scraping using Jupyter Notebook, BeautifulSoup, Pandas, and Requests/Splinter.\n",
    "from bs4 import BeautifulSoup\n",
    "import pandas as pd\n",
    "from pandas import DataFrame\n",
    "from splinter import Browser\n",
    "import requests\n",
    "import datetime as dt\n",
    "import time"
   ]
  },
  {
   "cell_type": "markdown",
   "metadata": {},
   "source": [
    "# NASA Mars News"
   ]
  },
  {
   "cell_type": "code",
   "execution_count": 15,
   "metadata": {},
   "outputs": [],
   "source": [
    "#Scrape the NASA Mars News Site and collect the latest News Title and Paragraph Text.\n",
    "#Assign the text to variables that you can reference later.\n",
    "\n",
    "## Assign path\n",
    "import os\n",
    "if os.name==\"nt\":\n",
    "    executable_path = {'executable_path': './chromedriver.exe'}\n",
    "else:\n",
    "    executable_path = {\"executable_path\": \"/chromedriver\"}"
   ]
  },
  {
   "cell_type": "code",
   "execution_count": 16,
   "metadata": {},
   "outputs": [],
   "source": [
    "browser = Browser('chrome', **executable_path, headless=True)"
   ]
  },
  {
   "cell_type": "code",
   "execution_count": 17,
   "metadata": {},
   "outputs": [],
   "source": [
    "## URL of page to be scraped\n",
    "url = 'https://mars.nasa.gov/news/?page=0&per_page=40&order=publish_date+desc%2Ccreated_at+desc&search=&category=19%2C165%2C184%2C204&blank_scope=Latest'\n",
    "browser.visit(url)"
   ]
  },
  {
   "cell_type": "code",
   "execution_count": 22,
   "metadata": {},
   "outputs": [
    {
     "name": "stdout",
     "output_type": "stream",
     "text": [
      "----------\n",
      "How NASA's Mars Helicopter Will Reach the Red Planet's Surface\n",
      "The small craft will seek to prove that powered, controlled flight is possible on another planet. But just getting it onto the surface of Mars will take a whole lot of ingenuity.\n",
      "----------\n",
      "The Launch Is Approaching for NASA's Next Mars Rover, Perseverance\n",
      "The Red Planet's surface has been visited by eight NASA spacecraft. The ninth will be the first that includes a roundtrip ticket in its flight plan.\n",
      "----------\n",
      "NASA to Hold Mars 2020 Perseverance Rover Launch Briefing\n",
      "Learn more about the agency's next Red Planet mission during a live event on June 17.\n",
      "----------\n",
      "While Stargazing on Mars, NASA's Curiosity Rover Spots Earth and Venus\n",
      "This new portrait of the Red Planet's neighbors was taken during a time when there's more dust in the air on Mars.\n",
      "----------\n",
      "NASA's Mars Rover Drivers Need Your Help\n",
      "Using an online tool to label Martian terrain types, you can train an artificial intelligence algorithm that could improve the way engineers guide the Curiosity rover.\n",
      "----------\n",
      "Three New Views of Mars' Moon Phobos\n",
      "Taken with the infrared camera aboard NASA's Odyssey orbiter, they reveal temperature variations on the small moon as it drifts into and out of Mars’ shadow.\n",
      "----------\n",
      "The Extraordinary Sample-Gathering System of NASA's Perseverance Mars Rover\n",
      "Two astronauts collected Moon rocks on Apollo 11. It will take three robotic systems working together to gather up the first Mars rock samples for return to Earth.\n",
      "----------\n",
      "The Detective Aboard NASA's Perseverance Rover\n",
      "An instrument called SHERLOC will, with the help of its partner WATSON, hunt for signs of ancient life by detecting organic molecules and minerals.\n",
      "----------\n",
      "MAVEN Maps Electric Currents around Mars that are Fundamental to Atmospheric Loss\n",
      "Five years after NASA’s MAVEN spacecraft entered into orbit around Mars, data from the mission has led to the creation of a map of electric current systems in the Martian atmosphere.\n",
      "----------\n",
      "Air Deliveries Bring NASA's Perseverance Mars Rover Closer to Launch\n",
      "A NASA Wallops Flight Facility cargo plane transported more than two tons of equipment — including the rover's sample collection tubes — to Florida for this summer's liftoff.\n",
      "----------\n",
      "NASA Wins 4 Webbys, 4 People's Voice Awards\n",
      "Winners include the JPL-managed \"Send Your Name to Mars\" campaign, NASA's Global Climate Change website and Solar System Interactive.\n",
      "----------\n",
      "NASA's Perseverance Rover Goes Through Trials by Fire, Ice, Light and Sound\n",
      "The agency's new Mars rover is put through a series of tests in vacuum chambers, acoustic chambers and more to get ready for the Red Planet.\n",
      "----------\n",
      "NASA's Perseverance Rover Mission Getting in Shape for Launch\n",
      "Stacking spacecraft components on top of each other is one of the final assembly steps before a mission launches to the Red Planet.\n",
      "----------\n",
      "NASA Perseverance Mars Rover Scientists Train in the Nevada Desert\n",
      "Team members searched for signs of ancient microscopic life there, just as NASA's latest rover will on the Red Planet next year.\n",
      "----------\n",
      "NASA's Perseverance Rover Will Look at Mars Through These 'Eyes'\n",
      "A pair of zoomable cameras will help scientists and rover drivers with high-resolution color images.\n",
      "----------\n",
      "Meet the People Behind NASA's Perseverance Rover\n",
      "These are the scientists and engineers who built NASA's next Mars rover and who will guide it to a safe landing in Jezero Crater.\n",
      "----------\n",
      "Q&A with the Student Who Named Ingenuity, NASA's Mars Helicopter\n",
      "As a longtime fan of space exploration, Vaneeza Rupani appreciates the creativity and collaboration involved with trying to fly on another planet.\n",
      "----------\n",
      "Alabama High School Student Names NASA's Mars Helicopter\n",
      "Vaneeza Rupani's essay was chosen as the name for the small spacecraft, which will mark NASA's first attempt at powered flight on another planet.\n",
      "----------\n",
      "How NASA's Perseverance Mars Team Adjusted to Work in the Time of Coronavirus\n",
      "Like much of the rest of the world, the Mars rover team is pushing forward with its mission-critical work while putting the health and safety of their colleagues and community first.\n",
      "----------\n",
      "NASA's Perseverance Mars Rover Gets Balanced\n",
      "The mission team performed a crucial weight-balancing test on the rover in preparation for this summer's history-making launch to the Red Planet.\n",
      "----------\n",
      "NASA's Curiosity Keeps Rolling As Team Operates Rover From Home\n",
      "The team has learned to meet new challenges as they work remotely on the Mars mission.\n",
      "----------\n",
      "Mars Helicopter Attached to NASA's Perseverance Rover\n",
      "The team also fueled the rover's sky crane to get ready for this summer's history-making launch.\n",
      "----------\n",
      "NASA's Perseverance Mars Rover Gets Its Wheels and Air Brakes\n",
      "After the rover was shipped from JPL to Kennedy Space Center, the team is getting closer to finalizing the spacecraft for launch later this summer.\n",
      "----------\n",
      "The Man Who Wanted to Fly on Mars\n",
      "The Mars Helicopter is riding to the Red Planet this summer with NASA's Perseverance rover. The helicopter's chief engineer, Bob Balaram, shares the saga of how it came into being.\n",
      "----------\n",
      "10.9 Million Names Now Aboard NASA's Perseverance Mars Rover\n",
      "As part of NASA's 'Send Your Name to Mars' campaign, they've been stenciled onto three microchips along with essays from NASA's 'Name the Rover' contest. Next stop: Mars.\n",
      "----------\n",
      "NASA's Curiosity Mars Rover Takes a New Selfie Before Record Climb\n",
      "Along with capturing an image before its steepest ascent ever, the robotic explorer filmed its \"selfie stick,\" or robotic arm, in action.\n",
      "----------\n",
      "NASA's Mars Perseverance Rover Gets Its Sample Handling System\n",
      "The system will be collecting and storing Martian rock and soil. Its installation marks another milestone in the march toward the July launch period.\n",
      "----------\n",
      "Virginia Middle School Student Earns Honor of Naming NASA's Next Mars Rover\n",
      "NASA chose a seventh-grader from Virginia as winner of the agency's \"Name the Rover\" essay contest. Alexander Mather's entry for \"Perseverance\" was voted tops among 28,000 entries.\n",
      "----------\n",
      "NASA's Curiosity Mars Rover Snaps Its Highest-Resolution Panorama Yet\n",
      "To go along with the stunning 1.8-billion-pixel image, a new video offers a sweeping view of the Red Planet.\n",
      "----------\n",
      "NASA to Reveal Name of Its Next Mars Rover\n",
      "After a months-long contest among students to name NASA's newest Mars rover, the agency will reveal the winning name — and the winning student — this Thursday.\n",
      "----------\n",
      "The MarCO Mission Comes to an End\n",
      "The pair of briefcase-sized satellites made history when they sailed past Mars in 2019.\n",
      "----------\n",
      "A Year of Surprising Science From NASA's InSight Mars Mission\n",
      "A batch of new papers summarizes the lander's findings above and below the surface of the Red Planet.\n",
      "----------\n",
      "Mars InSight Lander to Push on Top of the 'Mole'\n",
      "Engineers have a plan for pushing down on the heat probe, which has been stuck at the Martian surface for a year.\n",
      "----------\n",
      "Common Questions about InSight's 'Mole'\n",
      "The following Q&As with members of the team answer some of the most common questions about the burrowing device, part of a science instrument called the Heat Flow and Physical Properties Package (HP3).\n",
      "----------\n",
      "NASA Adds Return Sample Scientists to Mars 2020 Leadership Team\n",
      "The leadership council for Mars 2020 science added two new members who represent the interests of scientists destined to handle and study the first samples from Red Planet.\n",
      "----------\n",
      "NASA's Mars Reconnaissance Orbiter Undergoes Memory Update\n",
      "Other orbiters will continue relaying data from Mars surface missions for a two-week period.\n",
      "----------\n",
      "NASA's Mars 2020 Rover Goes Coast-to-Coast to Prep for Launch\n",
      "The agency's first step in returning rocks from Mars just arrived at Kennedy Space Center. The Mars 2020 team now begins readying for a launch to the Red Planet this July.\n",
      "----------\n",
      "NASA Prepares for Moon and Mars With New Addition to Its Deep Space Network\n",
      "Robotic spacecraft will be able to communicate with the dish using radio waves and lasers.\n",
      "----------\n",
      "NASA Administrator Statement on Moon to Mars Initiative, FY 2021 Budget\n",
      "Jim Bridenstine addresses NASA's ambitious plans for the coming years, including Mars Sample Return.\n",
      "----------\n",
      "All About the Laser (and Microphone) Atop Mars 2020, NASA's Next Rover\n",
      "SuperCam is a rock-vaporizing instrument that will help scientists hunt for Mars fossils.\n",
      "-----------\n",
      "News title count: 40, and new paragraph count: 40 on this page\n"
     ]
    }
   ],
   "source": [
    "\n",
    "# HTML object\n",
    "html = browser.html\n",
    "# Parse HTML with Beautiful Soup\n",
    "soup = BeautifulSoup(html, 'html.parser')\n",
    "\n",
    "# Examine the results, then determine element that contains sought info\n",
    "info = soup.find_all('div', class_=\"list_text\")\n",
    "\n",
    "#Create a container for the data that will be scraped\n",
    "news_title = []\n",
    "news_p = []\n",
    "\n",
    "# Loop through returned results\n",
    "for x in info:\n",
    "    title = x.find('a').text.strip()\n",
    "    paragraph = x.find( class_='article_teaser_body').text.strip()\n",
    "    \n",
    "    news_title.append(title)\n",
    "    news_p.append(paragraph)\n",
    "        \n",
    "    print('----------')\n",
    "    print(title)\n",
    "    print(paragraph)\n",
    "        \n",
    "print('-----------')\n",
    "print(f\"News title count: {len(news_title)}, and new paragraph count: {len(news_p)} on this page\")"
   ]
  },
  {
   "cell_type": "code",
   "execution_count": 23,
   "metadata": {},
   "outputs": [
    {
     "data": {
      "text/html": [
       "<div>\n",
       "<style scoped>\n",
       "    .dataframe tbody tr th:only-of-type {\n",
       "        vertical-align: middle;\n",
       "    }\n",
       "\n",
       "    .dataframe tbody tr th {\n",
       "        vertical-align: top;\n",
       "    }\n",
       "\n",
       "    .dataframe thead th {\n",
       "        text-align: right;\n",
       "    }\n",
       "</style>\n",
       "<table border=\"1\" class=\"dataframe\">\n",
       "  <thead>\n",
       "    <tr style=\"text-align: right;\">\n",
       "      <th></th>\n",
       "      <th>News Title</th>\n",
       "      <th>News Paragraph</th>\n",
       "    </tr>\n",
       "  </thead>\n",
       "  <tbody>\n",
       "    <tr>\n",
       "      <th>0</th>\n",
       "      <td>How NASA's Mars Helicopter Will Reach the Red ...</td>\n",
       "      <td>The small craft will seek to prove that powere...</td>\n",
       "    </tr>\n",
       "    <tr>\n",
       "      <th>1</th>\n",
       "      <td>The Launch Is Approaching for NASA's Next Mars...</td>\n",
       "      <td>The Red Planet's surface has been visited by e...</td>\n",
       "    </tr>\n",
       "    <tr>\n",
       "      <th>2</th>\n",
       "      <td>NASA to Hold Mars 2020 Perseverance Rover Laun...</td>\n",
       "      <td>Learn more about the agency's next Red Planet ...</td>\n",
       "    </tr>\n",
       "    <tr>\n",
       "      <th>3</th>\n",
       "      <td>While Stargazing on Mars, NASA's Curiosity Rov...</td>\n",
       "      <td>This new portrait of the Red Planet's neighbor...</td>\n",
       "    </tr>\n",
       "    <tr>\n",
       "      <th>4</th>\n",
       "      <td>NASA's Mars Rover Drivers Need Your Help</td>\n",
       "      <td>Using an online tool to label Martian terrain ...</td>\n",
       "    </tr>\n",
       "  </tbody>\n",
       "</table>\n",
       "</div>"
      ],
      "text/plain": [
       "                                          News Title  \\\n",
       "0  How NASA's Mars Helicopter Will Reach the Red ...   \n",
       "1  The Launch Is Approaching for NASA's Next Mars...   \n",
       "2  NASA to Hold Mars 2020 Perseverance Rover Laun...   \n",
       "3  While Stargazing on Mars, NASA's Curiosity Rov...   \n",
       "4           NASA's Mars Rover Drivers Need Your Help   \n",
       "\n",
       "                                      News Paragraph  \n",
       "0  The small craft will seek to prove that powere...  \n",
       "1  The Red Planet's surface has been visited by e...  \n",
       "2  Learn more about the agency's next Red Planet ...  \n",
       "3  This new portrait of the Red Planet's neighbor...  \n",
       "4  Using an online tool to label Martian terrain ...  "
      ]
     },
     "execution_count": 23,
     "metadata": {},
     "output_type": "execute_result"
    }
   ],
   "source": [
    "#Save to CSV file\n",
    "news_mars = pd.DataFrame({\"News Title\": news_title,\"News Paragraph\" : news_p\n",
    "})\n",
    "\n",
    "news_mars.head()"
   ]
  },
  {
   "cell_type": "code",
   "execution_count": 26,
   "metadata": {},
   "outputs": [],
   "source": [
    "news_mars.to_csv(\"Saved Output/news_mars.csv\")"
   ]
  },
  {
   "cell_type": "markdown",
   "metadata": {},
   "source": [
    "# JPL Mars Space Images - Featured Image"
   ]
  },
  {
   "cell_type": "code",
   "execution_count": 28,
   "metadata": {},
   "outputs": [],
   "source": [
    "# URL of page to be scraped\n",
    "url = 'https://www.jpl.nasa.gov/spaceimages/?search=&category=Mars#submit'\n",
    "browser.visit(url)"
   ]
  },
  {
   "cell_type": "code",
   "execution_count": 29,
   "metadata": {},
   "outputs": [
    {
     "name": "stdout",
     "output_type": "stream",
     "text": [
      "https://www.jpl.nasa.gov/spaceimages/images/wallpaper/PIA23960-640x350.jpg\n",
      "--------\n",
      "https://www.jpl.nasa.gov/spaceimages/images/wallpaper/PIA23959-640x350.jpg\n",
      "--------\n",
      "https://www.jpl.nasa.gov/spaceimages/images/wallpaper/PIA23958-640x350.jpg\n",
      "--------\n",
      "https://www.jpl.nasa.gov/spaceimages/images/wallpaper/PIA23957-640x350.jpg\n",
      "--------\n",
      "https://www.jpl.nasa.gov/spaceimages/images/wallpaper/PIA23956-640x350.jpg\n",
      "--------\n",
      "https://www.jpl.nasa.gov/spaceimages/images/wallpaper/PIA23950-640x350.jpg\n",
      "--------\n",
      "https://www.jpl.nasa.gov/spaceimages/images/wallpaper/PIA23949-640x350.jpg\n",
      "--------\n",
      "https://www.jpl.nasa.gov/spaceimages/images/wallpaper/PIA23948-640x350.jpg\n",
      "--------\n",
      "https://www.jpl.nasa.gov/spaceimages/images/wallpaper/PIA23900-640x350.jpg\n",
      "--------\n",
      "https://www.jpl.nasa.gov/spaceimages/images/wallpaper/PIA23947-640x350.jpg\n",
      "--------\n",
      "https://www.jpl.nasa.gov/spaceimages/images/wallpaper/PIA23899-640x350.jpg\n",
      "--------\n",
      "https://www.jpl.nasa.gov/spaceimages/images/wallpaper/PIA23946-640x350.jpg\n",
      "--------\n",
      "https://www.jpl.nasa.gov/spaceimages/images/wallpaper/PIA23897-640x350.jpg\n",
      "--------\n",
      "https://www.jpl.nasa.gov/spaceimages/images/wallpaper/PIA23945-640x350.jpg\n",
      "--------\n",
      "https://www.jpl.nasa.gov/spaceimages/images/wallpaper/PIA23944-640x350.jpg\n",
      "--------\n",
      "https://www.jpl.nasa.gov/spaceimages/images/wallpaper/PIA23943-640x350.jpg\n",
      "--------\n",
      "https://www.jpl.nasa.gov/spaceimages/images/wallpaper/PIA23942-640x350.jpg\n",
      "--------\n",
      "https://www.jpl.nasa.gov/spaceimages/images/wallpaper/PIA23893-640x350.jpg\n",
      "--------\n",
      "https://www.jpl.nasa.gov/spaceimages/images/wallpaper/PIA23941-640x350.jpg\n",
      "--------\n",
      "https://www.jpl.nasa.gov/spaceimages/images/wallpaper/PIA23940-640x350.jpg\n",
      "--------\n",
      "https://www.jpl.nasa.gov/spaceimages/images/wallpaper/PIA23939-640x350.jpg\n",
      "--------\n",
      "https://www.jpl.nasa.gov/spaceimages/images/wallpaper/PIA23938-640x350.jpg\n",
      "--------\n",
      "https://www.jpl.nasa.gov/spaceimages/images/wallpaper/PIA23954-640x350.jpg\n",
      "--------\n",
      "https://www.jpl.nasa.gov/spaceimages/images/wallpaper/PIA23953-640x350.jpg\n",
      "--------\n",
      "https://www.jpl.nasa.gov/spaceimages/images/wallpaper/PIA23952-640x350.jpg\n",
      "--------\n",
      "https://www.jpl.nasa.gov/spaceimages/images/wallpaper/PIA23951-640x350.jpg\n",
      "--------\n",
      "https://www.jpl.nasa.gov/spaceimages/images/wallpaper/PIA23937-640x350.jpg\n",
      "--------\n",
      "https://www.jpl.nasa.gov/spaceimages/images/wallpaper/PIA23936-640x350.jpg\n",
      "--------\n",
      "https://www.jpl.nasa.gov/spaceimages/images/wallpaper/PIA23935-640x350.jpg\n",
      "--------\n",
      "https://www.jpl.nasa.gov/spaceimages/images/wallpaper/PIA23934-640x350.jpg\n",
      "--------\n",
      "https://www.jpl.nasa.gov/spaceimages/images/wallpaper/PIA23933-640x350.jpg\n",
      "--------\n",
      "https://www.jpl.nasa.gov/spaceimages/images/wallpaper/PIA23932-640x350.jpg\n",
      "--------\n",
      "--------\n",
      "Count of images in the webpage 32\n"
     ]
    }
   ],
   "source": [
    "\n",
    "# HTML object\n",
    "html = browser.html\n",
    "# Parse HTML with Beautiful Soup\n",
    "soup = BeautifulSoup(html, 'html.parser')\n",
    "\n",
    "# Examine the results, then determine element that contains sought info\n",
    "info = soup.find_all('div', class_=\"img\")\n",
    "\n",
    "\n",
    "#Assign the url string to a variable called featured_image_url\n",
    "#Create a container for the data that will be scraped\n",
    "featured_image_url= []\n",
    "\n",
    "# Loop through returned results\n",
    "for x in info:\n",
    "\n",
    "    image = x.find('img')\n",
    "    image_loc = image['src']\n",
    "    \n",
    "    print('https://www.jpl.nasa.gov' + image_loc)  \n",
    "    \n",
    "    featured_image_url.append('https://www.jpl.nasa.gov' + image_loc)\n",
    "    print('--------')\n",
    "        \n",
    "    \n",
    "print('--------')\n",
    "print(f\"Count of images in the webpage {len(featured_image_url)}\")"
   ]
  },
  {
   "cell_type": "code",
   "execution_count": 30,
   "metadata": {},
   "outputs": [
    {
     "name": "stdout",
     "output_type": "stream",
     "text": [
      "['https://www.jpl.nasa.gov/spaceimages/images/wallpaper/PIA23960-640x350.jpg', 'https://www.jpl.nasa.gov/spaceimages/images/wallpaper/PIA23959-640x350.jpg', 'https://www.jpl.nasa.gov/spaceimages/images/wallpaper/PIA23958-640x350.jpg', 'https://www.jpl.nasa.gov/spaceimages/images/wallpaper/PIA23957-640x350.jpg', 'https://www.jpl.nasa.gov/spaceimages/images/wallpaper/PIA23956-640x350.jpg', 'https://www.jpl.nasa.gov/spaceimages/images/wallpaper/PIA23950-640x350.jpg', 'https://www.jpl.nasa.gov/spaceimages/images/wallpaper/PIA23949-640x350.jpg', 'https://www.jpl.nasa.gov/spaceimages/images/wallpaper/PIA23948-640x350.jpg', 'https://www.jpl.nasa.gov/spaceimages/images/wallpaper/PIA23900-640x350.jpg', 'https://www.jpl.nasa.gov/spaceimages/images/wallpaper/PIA23947-640x350.jpg', 'https://www.jpl.nasa.gov/spaceimages/images/wallpaper/PIA23899-640x350.jpg', 'https://www.jpl.nasa.gov/spaceimages/images/wallpaper/PIA23946-640x350.jpg', 'https://www.jpl.nasa.gov/spaceimages/images/wallpaper/PIA23897-640x350.jpg', 'https://www.jpl.nasa.gov/spaceimages/images/wallpaper/PIA23945-640x350.jpg', 'https://www.jpl.nasa.gov/spaceimages/images/wallpaper/PIA23944-640x350.jpg', 'https://www.jpl.nasa.gov/spaceimages/images/wallpaper/PIA23943-640x350.jpg', 'https://www.jpl.nasa.gov/spaceimages/images/wallpaper/PIA23942-640x350.jpg', 'https://www.jpl.nasa.gov/spaceimages/images/wallpaper/PIA23893-640x350.jpg', 'https://www.jpl.nasa.gov/spaceimages/images/wallpaper/PIA23941-640x350.jpg', 'https://www.jpl.nasa.gov/spaceimages/images/wallpaper/PIA23940-640x350.jpg', 'https://www.jpl.nasa.gov/spaceimages/images/wallpaper/PIA23939-640x350.jpg', 'https://www.jpl.nasa.gov/spaceimages/images/wallpaper/PIA23938-640x350.jpg', 'https://www.jpl.nasa.gov/spaceimages/images/wallpaper/PIA23954-640x350.jpg', 'https://www.jpl.nasa.gov/spaceimages/images/wallpaper/PIA23953-640x350.jpg', 'https://www.jpl.nasa.gov/spaceimages/images/wallpaper/PIA23952-640x350.jpg', 'https://www.jpl.nasa.gov/spaceimages/images/wallpaper/PIA23951-640x350.jpg', 'https://www.jpl.nasa.gov/spaceimages/images/wallpaper/PIA23937-640x350.jpg', 'https://www.jpl.nasa.gov/spaceimages/images/wallpaper/PIA23936-640x350.jpg', 'https://www.jpl.nasa.gov/spaceimages/images/wallpaper/PIA23935-640x350.jpg', 'https://www.jpl.nasa.gov/spaceimages/images/wallpaper/PIA23934-640x350.jpg', 'https://www.jpl.nasa.gov/spaceimages/images/wallpaper/PIA23933-640x350.jpg', 'https://www.jpl.nasa.gov/spaceimages/images/wallpaper/PIA23932-640x350.jpg']\n"
     ]
    }
   ],
   "source": [
    "#Inspect data\n",
    "print (featured_image_url)"
   ]
  },
  {
   "cell_type": "code",
   "execution_count": 31,
   "metadata": {},
   "outputs": [],
   "source": [
    "#import dataframe to convert the list to df\n",
    "from pandas import DataFrame"
   ]
  },
  {
   "cell_type": "code",
   "execution_count": 32,
   "metadata": {},
   "outputs": [
    {
     "name": "stdout",
     "output_type": "stream",
     "text": [
      "                                 Featured Mars Images\n",
      "0   https://www.jpl.nasa.gov/spaceimages/images/wa...\n",
      "1   https://www.jpl.nasa.gov/spaceimages/images/wa...\n",
      "2   https://www.jpl.nasa.gov/spaceimages/images/wa...\n",
      "3   https://www.jpl.nasa.gov/spaceimages/images/wa...\n",
      "4   https://www.jpl.nasa.gov/spaceimages/images/wa...\n",
      "5   https://www.jpl.nasa.gov/spaceimages/images/wa...\n",
      "6   https://www.jpl.nasa.gov/spaceimages/images/wa...\n",
      "7   https://www.jpl.nasa.gov/spaceimages/images/wa...\n",
      "8   https://www.jpl.nasa.gov/spaceimages/images/wa...\n",
      "9   https://www.jpl.nasa.gov/spaceimages/images/wa...\n",
      "10  https://www.jpl.nasa.gov/spaceimages/images/wa...\n",
      "11  https://www.jpl.nasa.gov/spaceimages/images/wa...\n",
      "12  https://www.jpl.nasa.gov/spaceimages/images/wa...\n",
      "13  https://www.jpl.nasa.gov/spaceimages/images/wa...\n",
      "14  https://www.jpl.nasa.gov/spaceimages/images/wa...\n",
      "15  https://www.jpl.nasa.gov/spaceimages/images/wa...\n",
      "16  https://www.jpl.nasa.gov/spaceimages/images/wa...\n",
      "17  https://www.jpl.nasa.gov/spaceimages/images/wa...\n",
      "18  https://www.jpl.nasa.gov/spaceimages/images/wa...\n",
      "19  https://www.jpl.nasa.gov/spaceimages/images/wa...\n",
      "20  https://www.jpl.nasa.gov/spaceimages/images/wa...\n",
      "21  https://www.jpl.nasa.gov/spaceimages/images/wa...\n",
      "22  https://www.jpl.nasa.gov/spaceimages/images/wa...\n",
      "23  https://www.jpl.nasa.gov/spaceimages/images/wa...\n",
      "24  https://www.jpl.nasa.gov/spaceimages/images/wa...\n",
      "25  https://www.jpl.nasa.gov/spaceimages/images/wa...\n",
      "26  https://www.jpl.nasa.gov/spaceimages/images/wa...\n",
      "27  https://www.jpl.nasa.gov/spaceimages/images/wa...\n",
      "28  https://www.jpl.nasa.gov/spaceimages/images/wa...\n",
      "29  https://www.jpl.nasa.gov/spaceimages/images/wa...\n",
      "30  https://www.jpl.nasa.gov/spaceimages/images/wa...\n",
      "31  https://www.jpl.nasa.gov/spaceimages/images/wa...\n"
     ]
    }
   ],
   "source": [
    "featured_df = DataFrame (featured_image_url, columns=['Featured Mars Images'])\n",
    "print(featured_df)"
   ]
  },
  {
   "cell_type": "code",
   "execution_count": 34,
   "metadata": {},
   "outputs": [],
   "source": [
    "#Save the df as CSV file \n",
    "featured_df.to_csv(\"Saved Output/featured_image_url.csv\", index=False)"
   ]
  },
  {
   "cell_type": "markdown",
   "metadata": {},
   "source": [
    "# Mars Weather"
   ]
  },
  {
   "cell_type": "code",
   "execution_count": 35,
   "metadata": {},
   "outputs": [],
   "source": [
    "# URL of page to be scraped\n",
    "url = 'https://twitter.com/marswxreport?lang=en'\n",
    "browser.visit(url)"
   ]
  },
  {
   "cell_type": "code",
   "execution_count": 37,
   "metadata": {},
   "outputs": [
    {
     "name": "stdout",
     "output_type": "stream",
     "text": [
      "The count of tweet text for Mars's weather is 0\n",
      "The count of tweet text for Mars's weather is 0\n",
      "The count of tweet text for Mars's weather is 0\n",
      "The count of tweet text for Mars's weather is 0\n",
      "The count of tweet text for Mars's weather is 0\n",
      "The count of tweet text for Mars's weather is 0\n",
      "The count of tweet text for Mars's weather is 0\n",
      "The count of tweet text for Mars's weather is 0\n",
      "The count of tweet text for Mars's weather is 0\n",
      "The count of tweet text for Mars's weather is 0\n",
      "The count of tweet text for Mars's weather is 0\n",
      "The count of tweet text for Mars's weather is 0\n",
      "The count of tweet text for Mars's weather is 0\n",
      "The count of tweet text for Mars's weather is 0\n",
      "The count of tweet text for Mars's weather is 0\n",
      "The count of tweet text for Mars's weather is 0\n",
      "The count of tweet text for Mars's weather is 0\n",
      "The count of tweet text for Mars's weather is 0\n",
      "The count of tweet text for Mars's weather is 0\n",
      "The count of tweet text for Mars's weather is 0\n",
      "The count of tweet text for Mars's weather is 0\n",
      "The count of tweet text for Mars's weather is 0\n",
      "The count of tweet text for Mars's weather is 0\n",
      "The count of tweet text for Mars's weather is 0\n",
      "The count of tweet text for Mars's weather is 0\n",
      "The count of tweet text for Mars's weather is 0\n",
      "The count of tweet text for Mars's weather is 0\n",
      "The count of tweet text for Mars's weather is 0\n",
      "The count of tweet text for Mars's weather is 0\n",
      "The count of tweet text for Mars's weather is 0\n",
      "The count of tweet text for Mars's weather is 0\n",
      "The count of tweet text for Mars's weather is 0\n",
      "The count of tweet text for Mars's weather is 0\n",
      "The count of tweet text for Mars's weather is 0\n",
      "The count of tweet text for Mars's weather is 0\n",
      "The count of tweet text for Mars's weather is 0\n",
      "The count of tweet text for Mars's weather is 0\n",
      "The count of tweet text for Mars's weather is 0\n",
      "The count of tweet text for Mars's weather is 0\n",
      "The count of tweet text for Mars's weather is 0\n",
      "The count of tweet text for Mars's weather is 0\n",
      "The count of tweet text for Mars's weather is 0\n",
      "The count of tweet text for Mars's weather is 0\n",
      "The count of tweet text for Mars's weather is 0\n",
      "The count of tweet text for Mars's weather is 0\n",
      "The count of tweet text for Mars's weather is 0\n",
      "The count of tweet text for Mars's weather is 0\n",
      "InSight sol 566 (2020-06-29) low -88.4ºC (-127.1ºF) high -4.2ºC (24.4ºF)\n",
      "winds from the WNW at 5.1 m/s (11.5 mph) gusting to 16.8 m/s (37.6 mph)\n",
      "pressure at 7.70 hPa\n",
      "---------\n",
      "The count of tweet text for Mars's weather is 1\n",
      "The count of tweet text for Mars's weather is 1\n",
      "The count of tweet text for Mars's weather is 1\n",
      "The count of tweet text for Mars's weather is 1\n",
      "The count of tweet text for Mars's weather is 1\n",
      "The count of tweet text for Mars's weather is 1\n",
      "The count of tweet text for Mars's weather is 1\n",
      "The count of tweet text for Mars's weather is 1\n",
      "The count of tweet text for Mars's weather is 1\n",
      "It's our birthday! On this day in 1976, a signal from the Viking 1 spacecraft orbiting Mars triggered the ribbon cutting at the opening of our Museum in DC.\n",
      "---------\n",
      "The count of tweet text for Mars's weather is 2\n",
      "The count of tweet text for Mars's weather is 2\n",
      "The count of tweet text for Mars's weather is 2\n",
      "The count of tweet text for Mars's weather is 2\n",
      "The count of tweet text for Mars's weather is 2\n",
      "The count of tweet text for Mars's weather is 2\n",
      "The count of tweet text for Mars's weather is 2\n",
      "The count of tweet text for Mars's weather is 2\n",
      "The count of tweet text for Mars's weather is 2\n",
      "The count of tweet text for Mars's weather is 2\n",
      "The count of tweet text for Mars's weather is 2\n",
      "The count of tweet text for Mars's weather is 2\n",
      "The count of tweet text for Mars's weather is 2\n",
      "The count of tweet text for Mars's weather is 2\n",
      "The count of tweet text for Mars's weather is 2\n",
      "The count of tweet text for Mars's weather is 2\n",
      "The count of tweet text for Mars's weather is 2\n",
      "The count of tweet text for Mars's weather is 2\n",
      "The count of tweet text for Mars's weather is 2\n",
      "The count of tweet text for Mars's weather is 2\n",
      "The count of tweet text for Mars's weather is 2\n",
      "The count of tweet text for Mars's weather is 2\n",
      "The count of tweet text for Mars's weather is 2\n",
      "The count of tweet text for Mars's weather is 2\n",
      "The count of tweet text for Mars's weather is 2\n",
      "InSight sol 565 (2020-06-28) low -89.6ºC (-129.3ºF) high -5.0ºC (22.9ºF)\n",
      "winds from the WNW at 4.5 m/s (10.0 mph) gusting to 17.6 m/s (39.4 mph)\n",
      "pressure at 7.60 hPa\n",
      "---------\n",
      "The count of tweet text for Mars's weather is 3\n",
      "The count of tweet text for Mars's weather is 3\n",
      "The count of tweet text for Mars's weather is 3\n",
      "The count of tweet text for Mars's weather is 3\n",
      "The count of tweet text for Mars's weather is 3\n",
      "The count of tweet text for Mars's weather is 3\n",
      "The count of tweet text for Mars's weather is 3\n",
      "InSight sol 564 (2020-06-28) low -89.3ºC (-128.8ºF) high -4.3ºC (24.2ºF)\n",
      "winds from the SSW at 5.0 m/s (11.3 mph) gusting to 15.4 m/s (34.4 mph)\n",
      "pressure at 7.70 hPa\n",
      "---------\n",
      "The count of tweet text for Mars's weather is 4\n",
      "The count of tweet text for Mars's weather is 4\n",
      "The count of tweet text for Mars's weather is 4\n",
      "The count of tweet text for Mars's weather is 4\n",
      "The count of tweet text for Mars's weather is 4\n"
     ]
    }
   ],
   "source": [
    "# HTML object\n",
    "html = browser.html\n",
    "# Parse HTML with Beautiful Soup\n",
    "soup = BeautifulSoup(html, 'html.parser')\n",
    "\n",
    "# Examine the results, then determine element that contains sought info\n",
    "info = soup.find_all('span', class_=\"css-901oao css-16my406 r-1qd0xha r-ad9z0x r-bcqeeo r-qvutc0\")\n",
    "\n",
    "#Create a container for the data that will be scraped\n",
    "mars_weather = []\n",
    "   \n",
    "for x in info: \n",
    "    weather = x.text.strip()\n",
    "    if (weather!=\"\" and weather[0]=='I'):\n",
    "        mars_weather.append(weather)\n",
    "        print(weather)\n",
    "        print('---------')\n",
    "     \n",
    "    print(f\"The count of tweet text for Mars's weather is {len(mars_weather)}\")"
   ]
  },
  {
   "cell_type": "code",
   "execution_count": 39,
   "metadata": {},
   "outputs": [
    {
     "name": "stdout",
     "output_type": "stream",
     "text": [
      "                                 Mars Weather Tweets\n",
      "0  InSight sol 566 (2020-06-29) low -88.4ºC (-127...\n",
      "1  It's our birthday! On this day in 1976, a sign...\n",
      "2  InSight sol 565 (2020-06-28) low -89.6ºC (-129...\n",
      "3  InSight sol 564 (2020-06-28) low -89.3ºC (-128...\n"
     ]
    }
   ],
   "source": [
    "#Save the tweet text for the weather report as a variable called mars_weather\n",
    "mars_weather_df = DataFrame (mars_weather, columns=['Mars Weather Tweets'])\n",
    "print(mars_weather_df)"
   ]
  },
  {
   "cell_type": "code",
   "execution_count": 40,
   "metadata": {},
   "outputs": [],
   "source": [
    "#Save the df as CSV file \n",
    "mars_weather_df.to_csv(\"Saved Output/mars_weather.csv\", index=False)"
   ]
  },
  {
   "cell_type": "markdown",
   "metadata": {},
   "source": [
    "\n",
    "# Mars Facts"
   ]
  },
  {
   "cell_type": "code",
   "execution_count": 41,
   "metadata": {},
   "outputs": [],
   "source": [
    "# URL of page to be scraped\n",
    "url = 'https://space-facts.com/mars/'"
   ]
  },
  {
   "cell_type": "code",
   "execution_count": 42,
   "metadata": {},
   "outputs": [
    {
     "data": {
      "text/plain": [
       "[                      0                              1\n",
       " 0  Equatorial Diameter:                       6,792 km\n",
       " 1       Polar Diameter:                       6,752 km\n",
       " 2                 Mass:  6.39 × 10^23 kg (0.11 Earths)\n",
       " 3                Moons:            2 (Phobos & Deimos)\n",
       " 4       Orbit Distance:       227,943,824 km (1.38 AU)\n",
       " 5         Orbit Period:           687 days (1.9 years)\n",
       " 6  Surface Temperature:                   -87 to -5 °C\n",
       " 7         First Record:              2nd millennium BC\n",
       " 8          Recorded By:           Egyptian astronomers,\n",
       "   Mars - Earth Comparison             Mars            Earth\n",
       " 0               Diameter:         6,779 km        12,742 km\n",
       " 1                   Mass:  6.39 × 10^23 kg  5.97 × 10^24 kg\n",
       " 2                  Moons:                2                1\n",
       " 3      Distance from Sun:   227,943,824 km   149,598,262 km\n",
       " 4         Length of Year:   687 Earth days      365.24 days\n",
       " 5            Temperature:    -153 to 20 °C      -88 to 58°C,\n",
       "                       0                              1\n",
       " 0  Equatorial Diameter:                       6,792 km\n",
       " 1       Polar Diameter:                       6,752 km\n",
       " 2                 Mass:  6.39 × 10^23 kg (0.11 Earths)\n",
       " 3                Moons:            2 (Phobos & Deimos)\n",
       " 4       Orbit Distance:       227,943,824 km (1.38 AU)\n",
       " 5         Orbit Period:           687 days (1.9 years)\n",
       " 6  Surface Temperature:                   -87 to -5 °C\n",
       " 7         First Record:              2nd millennium BC\n",
       " 8          Recorded By:           Egyptian astronomers]"
      ]
     },
     "execution_count": 42,
     "metadata": {},
     "output_type": "execute_result"
    }
   ],
   "source": [
    "#Read and inspect the data\n",
    "mars_facts = pd.read_html(url)\n",
    "mars_facts"
   ]
  },
  {
   "cell_type": "code",
   "execution_count": 43,
   "metadata": {},
   "outputs": [
    {
     "data": {
      "text/html": [
       "<div>\n",
       "<style scoped>\n",
       "    .dataframe tbody tr th:only-of-type {\n",
       "        vertical-align: middle;\n",
       "    }\n",
       "\n",
       "    .dataframe tbody tr th {\n",
       "        vertical-align: top;\n",
       "    }\n",
       "\n",
       "    .dataframe thead th {\n",
       "        text-align: right;\n",
       "    }\n",
       "</style>\n",
       "<table border=\"1\" class=\"dataframe\">\n",
       "  <thead>\n",
       "    <tr style=\"text-align: right;\">\n",
       "      <th></th>\n",
       "      <th>0</th>\n",
       "      <th>1</th>\n",
       "    </tr>\n",
       "  </thead>\n",
       "  <tbody>\n",
       "    <tr>\n",
       "      <th>0</th>\n",
       "      <td>Equatorial Diameter:</td>\n",
       "      <td>6,792 km</td>\n",
       "    </tr>\n",
       "    <tr>\n",
       "      <th>1</th>\n",
       "      <td>Polar Diameter:</td>\n",
       "      <td>6,752 km</td>\n",
       "    </tr>\n",
       "    <tr>\n",
       "      <th>2</th>\n",
       "      <td>Mass:</td>\n",
       "      <td>6.39 × 10^23 kg (0.11 Earths)</td>\n",
       "    </tr>\n",
       "    <tr>\n",
       "      <th>3</th>\n",
       "      <td>Moons:</td>\n",
       "      <td>2 (Phobos &amp; Deimos)</td>\n",
       "    </tr>\n",
       "    <tr>\n",
       "      <th>4</th>\n",
       "      <td>Orbit Distance:</td>\n",
       "      <td>227,943,824 km (1.38 AU)</td>\n",
       "    </tr>\n",
       "  </tbody>\n",
       "</table>\n",
       "</div>"
      ],
      "text/plain": [
       "                      0                              1\n",
       "0  Equatorial Diameter:                       6,792 km\n",
       "1       Polar Diameter:                       6,752 km\n",
       "2                 Mass:  6.39 × 10^23 kg (0.11 Earths)\n",
       "3                Moons:            2 (Phobos & Deimos)\n",
       "4       Orbit Distance:       227,943,824 km (1.38 AU)"
      ]
     },
     "execution_count": 43,
     "metadata": {},
     "output_type": "execute_result"
    }
   ],
   "source": [
    "#Convert list to dataframe\n",
    "mars_facts_df = mars_facts[0]\n",
    "mars_facts_df.head()"
   ]
  },
  {
   "cell_type": "code",
   "execution_count": 44,
   "metadata": {},
   "outputs": [
    {
     "data": {
      "text/html": [
       "<div>\n",
       "<style scoped>\n",
       "    .dataframe tbody tr th:only-of-type {\n",
       "        vertical-align: middle;\n",
       "    }\n",
       "\n",
       "    .dataframe tbody tr th {\n",
       "        vertical-align: top;\n",
       "    }\n",
       "\n",
       "    .dataframe thead th {\n",
       "        text-align: right;\n",
       "    }\n",
       "</style>\n",
       "<table border=\"1\" class=\"dataframe\">\n",
       "  <thead>\n",
       "    <tr style=\"text-align: right;\">\n",
       "      <th></th>\n",
       "      <th>Unit</th>\n",
       "      <th>Measure</th>\n",
       "    </tr>\n",
       "  </thead>\n",
       "  <tbody>\n",
       "    <tr>\n",
       "      <th>0</th>\n",
       "      <td>Equatorial Diameter:</td>\n",
       "      <td>6,792 km</td>\n",
       "    </tr>\n",
       "    <tr>\n",
       "      <th>1</th>\n",
       "      <td>Polar Diameter:</td>\n",
       "      <td>6,752 km</td>\n",
       "    </tr>\n",
       "    <tr>\n",
       "      <th>2</th>\n",
       "      <td>Mass:</td>\n",
       "      <td>6.39 × 10^23 kg (0.11 Earths)</td>\n",
       "    </tr>\n",
       "    <tr>\n",
       "      <th>3</th>\n",
       "      <td>Moons:</td>\n",
       "      <td>2 (Phobos &amp; Deimos)</td>\n",
       "    </tr>\n",
       "    <tr>\n",
       "      <th>4</th>\n",
       "      <td>Orbit Distance:</td>\n",
       "      <td>227,943,824 km (1.38 AU)</td>\n",
       "    </tr>\n",
       "    <tr>\n",
       "      <th>5</th>\n",
       "      <td>Orbit Period:</td>\n",
       "      <td>687 days (1.9 years)</td>\n",
       "    </tr>\n",
       "    <tr>\n",
       "      <th>6</th>\n",
       "      <td>Surface Temperature:</td>\n",
       "      <td>-87 to -5 °C</td>\n",
       "    </tr>\n",
       "    <tr>\n",
       "      <th>7</th>\n",
       "      <td>First Record:</td>\n",
       "      <td>2nd millennium BC</td>\n",
       "    </tr>\n",
       "    <tr>\n",
       "      <th>8</th>\n",
       "      <td>Recorded By:</td>\n",
       "      <td>Egyptian astronomers</td>\n",
       "    </tr>\n",
       "  </tbody>\n",
       "</table>\n",
       "</div>"
      ],
      "text/plain": [
       "                   Unit                        Measure\n",
       "0  Equatorial Diameter:                       6,792 km\n",
       "1       Polar Diameter:                       6,752 km\n",
       "2                 Mass:  6.39 × 10^23 kg (0.11 Earths)\n",
       "3                Moons:            2 (Phobos & Deimos)\n",
       "4       Orbit Distance:       227,943,824 km (1.38 AU)\n",
       "5         Orbit Period:           687 days (1.9 years)\n",
       "6  Surface Temperature:                   -87 to -5 °C\n",
       "7         First Record:              2nd millennium BC\n",
       "8          Recorded By:           Egyptian astronomers"
      ]
     },
     "execution_count": 44,
     "metadata": {},
     "output_type": "execute_result"
    }
   ],
   "source": [
    "#Rename the column titles\n",
    "mars_facts_df = mars_facts_df.rename(columns={0:\"Unit\", 1:\"Measure\"})\n",
    "mars_facts_df"
   ]
  },
  {
   "cell_type": "code",
   "execution_count": 45,
   "metadata": {},
   "outputs": [],
   "source": [
    "#Save the dataframe to html\n",
    "mars_facts_df.to_html('Saved Output/mars_facts.html')"
   ]
  },
  {
   "cell_type": "markdown",
   "metadata": {},
   "source": [
    "# Mars Hemispheres"
   ]
  },
  {
   "cell_type": "code",
   "execution_count": 118,
   "metadata": {},
   "outputs": [],
   "source": [
    "# URL of page to be scraped\n",
    "url = 'https://astrogeology.usgs.gov/search/results?q=hemisphere+enhanced&k1=target&v1=Mars'\n",
    "browser.visit(url)"
   ]
  },
  {
   "cell_type": "code",
   "execution_count": 119,
   "metadata": {},
   "outputs": [],
   "source": [
    "# HTML object\n",
    "html = browser.html\n",
    "# Parse HTML with Beautiful Soup\n",
    "soup = BeautifulSoup(html, 'html.parser')"
   ]
  },
  {
   "cell_type": "code",
   "execution_count": 120,
   "metadata": {},
   "outputs": [
    {
     "data": {
      "text/plain": [
       "[<div class=\"item\"><a class=\"itemLink product-item\" href=\"/search/map/Mars/Viking/cerberus_enhanced\"><img alt=\"Cerberus Hemisphere Enhanced thumbnail\" class=\"thumb\" src=\"/cache/images/39d3266553462198bd2fbc4d18fbed17_cerberus_enhanced.tif_thumb.png\"/></a><div class=\"description\"><a class=\"itemLink product-item\" href=\"/search/map/Mars/Viking/cerberus_enhanced\"><h3>Cerberus Hemisphere Enhanced</h3></a><span class=\"subtitle\" style=\"float:left\">image/tiff 21 MB</span><span class=\"pubDate\" style=\"float:right\"></span><br/><p>Mosaic of the Cerberus hemisphere of Mars projected into point perspective, a view similar to that which one would see from a spacecraft. This mosaic is composed of 104 Viking Orbiter images acquired…</p></div> <!-- end description --></div>,\n",
       " <div class=\"item\"><a class=\"itemLink product-item\" href=\"/search/map/Mars/Viking/schiaparelli_enhanced\"><img alt=\"Schiaparelli Hemisphere Enhanced thumbnail\" class=\"thumb\" src=\"/cache/images/08eac6e22c07fb1fe72223a79252de20_schiaparelli_enhanced.tif_thumb.png\"/></a><div class=\"description\"><a class=\"itemLink product-item\" href=\"/search/map/Mars/Viking/schiaparelli_enhanced\"><h3>Schiaparelli Hemisphere Enhanced</h3></a><span class=\"subtitle\" style=\"float:left\">image/tiff 35 MB</span><span class=\"pubDate\" style=\"float:right\"></span><br/><p>Mosaic of the Schiaparelli hemisphere of Mars projected into point perspective, a view similar to that which one would see from a spacecraft. The images were acquired in 1980 during early northern…</p></div> <!-- end description --></div>,\n",
       " <div class=\"item\"><a class=\"itemLink product-item\" href=\"/search/map/Mars/Viking/syrtis_major_enhanced\"><img alt=\"Syrtis Major Hemisphere Enhanced thumbnail\" class=\"thumb\" src=\"/cache/images/55a0a1e2796313fdeafb17c35925e8ac_syrtis_major_enhanced.tif_thumb.png\"/></a><div class=\"description\"><a class=\"itemLink product-item\" href=\"/search/map/Mars/Viking/syrtis_major_enhanced\"><h3>Syrtis Major Hemisphere Enhanced</h3></a><span class=\"subtitle\" style=\"float:left\">image/tiff 25 MB</span><span class=\"pubDate\" style=\"float:right\"></span><br/><p>Mosaic of the Syrtis Major hemisphere of Mars projected into point perspective, a view similar to that which one would see from a spacecraft. This mosaic is composed of about 100 red and violet…</p></div> <!-- end description --></div>,\n",
       " <div class=\"item\"><a class=\"itemLink product-item\" href=\"/search/map/Mars/Viking/valles_marineris_enhanced\"><img alt=\"Valles Marineris Hemisphere Enhanced thumbnail\" class=\"thumb\" src=\"/cache/images/4e59980c1c57f89c680c0e1ccabbeff1_valles_marineris_enhanced.tif_thumb.png\"/></a><div class=\"description\"><a class=\"itemLink product-item\" href=\"/search/map/Mars/Viking/valles_marineris_enhanced\"><h3>Valles Marineris Hemisphere Enhanced</h3></a><span class=\"subtitle\" style=\"float:left\">image/tiff 27 MB</span><span class=\"pubDate\" style=\"float:right\"></span><br/><p>Mosaic of the Valles Marineris hemisphere of Mars projected into point perspective, a view similar to that which one would see from a spacecraft. The distance is 2500 kilometers from the surface of…</p></div> <!-- end description --></div>]"
      ]
     },
     "execution_count": 120,
     "metadata": {},
     "output_type": "execute_result"
    }
   ],
   "source": [
    "# Examine the results, then determine element that contains sought info\n",
    "info = soup.find_all('div', class_=\"item\")\n",
    "info"
   ]
  },
  {
   "cell_type": "code",
   "execution_count": 121,
   "metadata": {},
   "outputs": [
    {
     "name": "stdout",
     "output_type": "stream",
     "text": [
      "https://astrogeology.usgs.gov/search/map/Mars/Viking/cerberus_enhanced\n",
      "--------\n",
      "https://astrogeology.usgs.gov/search/map/Mars/Viking/schiaparelli_enhanced\n",
      "--------\n",
      "https://astrogeology.usgs.gov/search/map/Mars/Viking/syrtis_major_enhanced\n",
      "--------\n",
      "https://astrogeology.usgs.gov/search/map/Mars/Viking/valles_marineris_enhanced\n",
      "--------\n"
     ]
    }
   ],
   "source": [
    "#Create a container for the data that will be scraped\n",
    "hemisphere_details = []\n",
    "   \n",
    "#Loop through the returned results for Hemisphere name    \n",
    "for x in info:\n",
    "\n",
    "    description = x.find('div', class_=\"description\")\n",
    "    h3 = description.find('h3').text.strip()\n",
    "    \n",
    "    a = x.find('a')\n",
    "    href = a['href']\n",
    "    \n",
    "    hemisphere_name_url = 'https://astrogeology.usgs.gov' + href\n",
    "    print(hemisphere_name_url)\n",
    "    \n",
    "    hemisphere_details.append('https://astrogeology.usgs.gov' + href)\n",
    "    print('--------')   \n"
   ]
  },
  {
   "cell_type": "code",
   "execution_count": 122,
   "metadata": {},
   "outputs": [
    {
     "data": {
      "text/plain": [
       "['https://astrogeology.usgs.gov/search/map/Mars/Viking/cerberus_enhanced',\n",
       " 'https://astrogeology.usgs.gov/search/map/Mars/Viking/schiaparelli_enhanced',\n",
       " 'https://astrogeology.usgs.gov/search/map/Mars/Viking/syrtis_major_enhanced',\n",
       " 'https://astrogeology.usgs.gov/search/map/Mars/Viking/valles_marineris_enhanced']"
      ]
     },
     "execution_count": 122,
     "metadata": {},
     "output_type": "execute_result"
    }
   ],
   "source": [
    "hemisphere_details"
   ]
  },
  {
   "cell_type": "code",
   "execution_count": 123,
   "metadata": {},
   "outputs": [
    {
     "name": "stdout",
     "output_type": "stream",
     "text": [
      "https://astrogeology.usgs.gov/search/map/Mars/Viking/cerberus_enhanced\n",
      "title: Cerberus Hemisphere Enhanced\n",
      "image_url: https://astrogeology.usgs.gov/cache/images/f5e372a36edfa389625da6d0cc25d905_cerberus_enhanced.tif_full.jpg\n",
      "-----------\n",
      "https://astrogeology.usgs.gov/search/map/Mars/Viking/schiaparelli_enhanced\n",
      "title: Schiaparelli Hemisphere Enhanced\n",
      "image_url: https://astrogeology.usgs.gov/cache/images/3778f7b43bbbc89d6e3cfabb3613ba93_schiaparelli_enhanced.tif_full.jpg\n",
      "-----------\n",
      "https://astrogeology.usgs.gov/search/map/Mars/Viking/syrtis_major_enhanced\n",
      "title: Syrtis Major Hemisphere Enhanced\n",
      "image_url: https://astrogeology.usgs.gov/cache/images/555e6403a6ddd7ba16ddb0e471cadcf7_syrtis_major_enhanced.tif_full.jpg\n",
      "-----------\n",
      "https://astrogeology.usgs.gov/search/map/Mars/Viking/valles_marineris_enhanced\n",
      "title: Valles Marineris Hemisphere Enhanced\n",
      "image_url: https://astrogeology.usgs.gov/cache/images/b3c7c6c9138f57b4756be9b9c43e3a48_valles_marineris_enhanced.tif_full.jpg\n",
      "-----------\n",
      "The 4 images and their links\n"
     ]
    }
   ],
   "source": [
    "import requests\n",
    "import time\n",
    "\n",
    "\n",
    "hemisph_images = {}\n",
    "   \n",
    "# HTML object\n",
    "html = browser.html\n",
    "# Parse HTML with Beautiful Soup\n",
    "soup = BeautifulSoup(html, 'html.parser')\n",
    "\n",
    "# Retrieve all elements that contain articles information\n",
    "infos = soup.find_all('div', class_=\"item\")\n",
    "\n",
    "for info in infos:\n",
    "\n",
    "    description = info.find('div', class_=\"description\")\n",
    "    h3 = description.find('h3').text.strip()\n",
    "    \n",
    "    link = info.find('a')\n",
    "    href = link['href']\n",
    "    \n",
    "    url_full = 'https://astrogeology.usgs.gov' + href\n",
    "    print(url_full)\n",
    "    \n",
    "    browser.visit(url_full)\n",
    "    time.sleep(2)\n",
    "    \n",
    "    html = browser.html\n",
    "    soup = BeautifulSoup(html, 'html.parser')\n",
    "    \n",
    "    info_image = soup.find_all('img', class_=\"wide-image\")\n",
    "    \n",
    "    href_full =  info_image[0]['src']\n",
    "    \n",
    "    hemisph_images.update( {h3 : 'https://astrogeology.usgs.gov' + href_full} )\n",
    "    print('title:',h3)\n",
    "    print('image_url:','https://astrogeology.usgs.gov' + href_full)\n",
    "    print('-----------')\n",
    "        \n",
    "print(f\"The {len(hemisph_images)} images and their links\")"
   ]
  },
  {
   "cell_type": "code",
   "execution_count": null,
   "metadata": {},
   "outputs": [],
   "source": []
  }
 ],
 "metadata": {
  "kernelspec": {
   "display_name": "Python 3",
   "language": "python",
   "name": "python3"
  },
  "language_info": {
   "codemirror_mode": {
    "name": "ipython",
    "version": 3
   },
   "file_extension": ".py",
   "mimetype": "text/x-python",
   "name": "python",
   "nbconvert_exporter": "python",
   "pygments_lexer": "ipython3",
   "version": "3.8.2"
  }
 },
 "nbformat": 4,
 "nbformat_minor": 4
}
