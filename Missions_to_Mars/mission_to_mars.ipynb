{
 "cells": [
  {
   "cell_type": "code",
   "execution_count": 29,
   "metadata": {},
   "outputs": [],
   "source": [
    "\n",
    "# Step 1 - Complete your initial scraping using Jupyter Notebook, BeautifulSoup, Pandas, and Requests/Splinter.\n",
    "from bs4 import BeautifulSoup\n",
    "import pymongo\n",
    "from splinter import Browser\n",
    "import pandas as pd\n",
    "import time"
   ]
  },
  {
   "cell_type": "markdown",
   "metadata": {},
   "source": [
    "# NASA Mars News"
   ]
  },
  {
   "cell_type": "code",
   "execution_count": 30,
   "metadata": {},
   "outputs": [],
   "source": [
    "#Scrape the NASA Mars News Site and collect the latest News Title and Paragraph Text.\n",
    "#Assign the text to variables that you can reference later.\n",
    "def init_browser():\n",
    "    # @NOTE: Replace the path with your actual path to the chromedriver\n",
    "    import os\n",
    "    if os.name==\"nt\":\n",
    "        executable_path = {'executable_path': './chromedriver.exe'}\n",
    "    else:\n",
    "        executable_path = {\"executable_path\": \"/usr/local/bin/chromedriver\"}\n",
    "    return Browser(\"chrome\", **executable_path, headless=False)"
   ]
  },
  {
   "cell_type": "code",
   "execution_count": 31,
   "metadata": {},
   "outputs": [],
   "source": [
    "def nasa_mars_news():\n",
    "    browser = init_browser()\n",
    "    nasa_url = 'https://mars.nasa.gov/news'\n",
    "    browser.visit(nasa_url)\n",
    "    time.sleep(5)\n",
    "    # HTML object\n",
    "    html = browser.html\n",
    "    # Parse HTML with Beautiful Soup\n",
    "    soup = BeautifulSoup(html, 'lxml')\n",
    "    nasa_news  = []\n",
    "    for slides in soup.find_all('li', class_='slide'):\n",
    "        news_title = slides.find_all('div', class_='content_title')[0].text\n",
    "        news_p = slides.find_all('div', class_='article_teaser_body')[0].text\n",
    "        nasa_news =  [news_title, news_p]\n",
    "        break\n",
    "    browser.quit()\n",
    "    return nasa_news "
   ]
  },
  {
   "cell_type": "code",
   "execution_count": 32,
   "metadata": {},
   "outputs": [],
   "source": [
    "def featured_mars_img():\n",
    "    browser = init_browser()\n",
    "    jpl_url = 'https://www.jpl.nasa.gov/spaceimages/?search=&category=Mars'\n",
    "    browser.visit(jpl_url)\n",
    "    time.sleep(5)\n",
    "    # HTML object\n",
    "    html = browser.html\n",
    "    # Parse HTML with Beautiful Soup\n",
    "    soup = BeautifulSoup(html, 'lxml')\n",
    "    image_url = soup.find('article', class_='carousel_item')['style']\n",
    "    mars_image_url =image_url.replace('background-image: url(', '').replace(');','')[1:-1]\n",
    "    main_url = 'https://www.jpl.nasa.gov'\n",
    "    featured_image_url = main_url + mars_image_url\n",
    "    browser.quit()\n",
    "    return featured_image_url  \n"
   ]
  },
  {
   "cell_type": "code",
   "execution_count": 33,
   "metadata": {},
   "outputs": [],
   "source": [
    "def mars_weather_twitter():\n",
    "    browser = init_browser()\n",
    "    twitter_url = 'https://twitter.com/marswxreport?lang=en'\n",
    "    browser.visit(twitter_url)\n",
    "    time.sleep(5)\n",
    "    html = browser.html\n",
    "    soup = BeautifulSoup(html, 'lxml')\n",
    "    mars_weather = soup.find_all('span')\n",
    "    for tweet in mars_weather:\n",
    "        if 'InSight sol' in tweet.text:\n",
    "            mars_weather = tweet.text\n",
    "            break\n",
    "    browser.quit()\n",
    "    return mars_weather \n"
   ]
  },
  {
   "cell_type": "code",
   "execution_count": 34,
   "metadata": {},
   "outputs": [],
   "source": [
    "def mars_facts_table():\n",
    "    facts_url = 'https://space-facts.com/mars/'\n",
    "    facts_tables = pd.read_html(facts_url)\n",
    "    mars_facts = facts_tables[0]\n",
    "    mars_facts.columns = [\"Description\", \"Value\"]\n",
    "    mars_facts = mars_facts.set_index(\"Description\")\n",
    "    mars_table = mars_facts.to_html()\n",
    "    return mars_table"
   ]
  },
  {
   "cell_type": "code",
   "execution_count": 35,
   "metadata": {},
   "outputs": [],
   "source": [
    "def mars_hems_imgs():\n",
    "    browser = init_browser()\n",
    "    hems_url ='https://astrogeology.usgs.gov/search/results?q=hemisphere+enhanced&k1=target&v1=Mars'\n",
    "    browser.visit(hems_url)\n",
    "    time.sleep(5)\n",
    "    html = browser.html\n",
    "    soup = BeautifulSoup(html, 'html.parser')\n",
    "    results = soup.find_all('div', class_='item')\n",
    "    hem_title_urls  = []\n",
    "    main_url = 'https://astrogeology.usgs.gov'  \n",
    "    for result in results:\n",
    "        title = result.find('h3').text\n",
    "        image_url = result.find('a', class_='itemLink product-item')['href']\n",
    "        image_url = main_url+image_url\n",
    "        browser.visit(image_url)\n",
    "        time.sleep(5)\n",
    "        html = browser.html\n",
    "        soup = BeautifulSoup(html, 'html.parser')\n",
    "        result = browser.links.find_by_text('Sample').first\n",
    "        enhanced_url = result['href']\n",
    "        hem_title_urls.append({\"Title\" : title, \"Image_URL\" : enhanced_url}) \n",
    "    browser.quit()  \n",
    "    return hem_title_urls\n"
   ]
  },
  {
   "cell_type": "code",
   "execution_count": 36,
   "metadata": {},
   "outputs": [],
   "source": [
    "def scrape_info():\n",
    "    \n",
    "    mars_info = {}\n",
    "    nasa_news = nasa_mars_news()\n",
    "    mars_info[\"title\"] = nasa_news[0]\n",
    "    mars_info[\"par\"] = nasa_news[1]\n",
    "    mars_info[\"featured_image_url\"] = featured_mars_img()\n",
    "    mars_info[\"mars_weather\"] = mars_weather_twitter()\n",
    "    mars_info[\"mars_table\"] = mars_facts_table()\n",
    "    mars_info[\"hem_title_urls\"] = mars_hems_imgs()\n",
    "\n",
    "    # Return results\n",
    "    return mars_info"
   ]
  },
  {
   "cell_type": "code",
   "execution_count": 4,
   "metadata": {},
   "outputs": [],
   "source": [
    "# browser = Browser('chrome', **executable_path, headless=True)"
   ]
  },
  {
   "cell_type": "code",
   "execution_count": 5,
   "metadata": {},
   "outputs": [],
   "source": [
    "# URL of page to be scraped\n",
    "# url = 'https://mars.nasa.gov/news/?page=0&per_page=40&order=publish_date+desc%2Ccreated_at+desc&search=&category=19%2C165%2C184%2C204&blank_scope=Latest'\n",
    "# browser.visit(url)"
   ]
  },
  {
   "cell_type": "code",
   "execution_count": 37,
   "metadata": {},
   "outputs": [],
   "source": [
    "\n",
    "# # HTML object\n",
    "# html = browser.html\n",
    "# # Parse HTML with Beautiful Soup\n",
    "# soup = BeautifulSoup(html, 'html.parser')\n",
    "\n",
    "# # Examine the results, then determine element that contains sought info\n",
    "# info = soup.find_all('div', class_=\"list_text\")\n",
    "\n",
    "# #Create a container for the data that will be scraped\n",
    "# news_title = []\n",
    "# news_p = []\n",
    "\n",
    "# # Loop through returned results\n",
    "# for x in info:\n",
    "#     title = x.find('a').text.strip()\n",
    "#     paragraph = x.find( class_='article_teaser_body').text.strip()\n",
    "    \n",
    "#     news_title.append(title)\n",
    "#     news_p.append(paragraph)\n",
    "        \n",
    "#     print('----------')\n",
    "#     print(title)\n",
    "#     print(paragraph)\n",
    "        \n",
    "# print('-----------')\n",
    "# print(f\"News title count: {len(news_title)}, and new paragraph count: {len(news_p)} on this page\")"
   ]
  },
  {
   "cell_type": "code",
   "execution_count": 38,
   "metadata": {},
   "outputs": [],
   "source": [
    "# #Save to CSV file\n",
    "# news_mars = pd.DataFrame({\"News Title\": news_title,\"News Paragraph\" : news_p\n",
    "# })\n",
    "\n",
    "# news_mars.head()"
   ]
  },
  {
   "cell_type": "code",
   "execution_count": 39,
   "metadata": {},
   "outputs": [],
   "source": [
    "# news_mars.to_csv(\"Saved Output/news_mars.csv\")"
   ]
  },
  {
   "cell_type": "markdown",
   "metadata": {},
   "source": [
    "# JPL Mars Space Images - Featured Image"
   ]
  },
  {
   "cell_type": "code",
   "execution_count": 8,
   "metadata": {},
   "outputs": [],
   "source": [
    "# # URL of page to be scraped\n",
    "# url = 'https://www.jpl.nasa.gov/spaceimages/?search=&category=Mars#submit'\n",
    "# browser.visit(url)"
   ]
  },
  {
   "cell_type": "code",
   "execution_count": 9,
   "metadata": {},
   "outputs": [
    {
     "name": "stdout",
     "output_type": "stream",
     "text": [
      "https://www.jpl.nasa.gov/spaceimages/images/wallpaper/PIA23960-640x350.jpg\n",
      "--------\n",
      "https://www.jpl.nasa.gov/spaceimages/images/wallpaper/PIA23959-640x350.jpg\n",
      "--------\n",
      "https://www.jpl.nasa.gov/spaceimages/images/wallpaper/PIA23958-640x350.jpg\n",
      "--------\n",
      "https://www.jpl.nasa.gov/spaceimages/images/wallpaper/PIA23957-640x350.jpg\n",
      "--------\n",
      "https://www.jpl.nasa.gov/spaceimages/images/wallpaper/PIA23956-640x350.jpg\n",
      "--------\n",
      "https://www.jpl.nasa.gov/spaceimages/images/wallpaper/PIA23950-640x350.jpg\n",
      "--------\n",
      "https://www.jpl.nasa.gov/spaceimages/images/wallpaper/PIA23949-640x350.jpg\n",
      "--------\n",
      "https://www.jpl.nasa.gov/spaceimages/images/wallpaper/PIA23948-640x350.jpg\n",
      "--------\n",
      "https://www.jpl.nasa.gov/spaceimages/images/wallpaper/PIA23900-640x350.jpg\n",
      "--------\n",
      "https://www.jpl.nasa.gov/spaceimages/images/wallpaper/PIA23947-640x350.jpg\n",
      "--------\n",
      "https://www.jpl.nasa.gov/spaceimages/images/wallpaper/PIA23899-640x350.jpg\n",
      "--------\n",
      "https://www.jpl.nasa.gov/spaceimages/images/wallpaper/PIA23946-640x350.jpg\n",
      "--------\n",
      "https://www.jpl.nasa.gov/spaceimages/images/wallpaper/PIA23897-640x350.jpg\n",
      "--------\n",
      "https://www.jpl.nasa.gov/spaceimages/images/wallpaper/PIA23945-640x350.jpg\n",
      "--------\n",
      "https://www.jpl.nasa.gov/spaceimages/images/wallpaper/PIA23944-640x350.jpg\n",
      "--------\n",
      "https://www.jpl.nasa.gov/spaceimages/images/wallpaper/PIA23943-640x350.jpg\n",
      "--------\n",
      "https://www.jpl.nasa.gov/spaceimages/images/wallpaper/PIA23942-640x350.jpg\n",
      "--------\n",
      "https://www.jpl.nasa.gov/spaceimages/images/wallpaper/PIA23893-640x350.jpg\n",
      "--------\n",
      "https://www.jpl.nasa.gov/spaceimages/images/wallpaper/PIA23941-640x350.jpg\n",
      "--------\n",
      "https://www.jpl.nasa.gov/spaceimages/images/wallpaper/PIA23940-640x350.jpg\n",
      "--------\n",
      "https://www.jpl.nasa.gov/spaceimages/images/wallpaper/PIA23939-640x350.jpg\n",
      "--------\n",
      "https://www.jpl.nasa.gov/spaceimages/images/wallpaper/PIA23938-640x350.jpg\n",
      "--------\n",
      "https://www.jpl.nasa.gov/spaceimages/images/wallpaper/PIA23954-640x350.jpg\n",
      "--------\n",
      "https://www.jpl.nasa.gov/spaceimages/images/wallpaper/PIA23953-640x350.jpg\n",
      "--------\n",
      "https://www.jpl.nasa.gov/spaceimages/images/wallpaper/PIA23952-640x350.jpg\n",
      "--------\n",
      "https://www.jpl.nasa.gov/spaceimages/images/wallpaper/PIA23951-640x350.jpg\n",
      "--------\n",
      "https://www.jpl.nasa.gov/spaceimages/images/wallpaper/PIA23937-640x350.jpg\n",
      "--------\n",
      "https://www.jpl.nasa.gov/spaceimages/images/wallpaper/PIA23936-640x350.jpg\n",
      "--------\n",
      "https://www.jpl.nasa.gov/spaceimages/images/wallpaper/PIA23935-640x350.jpg\n",
      "--------\n",
      "https://www.jpl.nasa.gov/spaceimages/images/wallpaper/PIA23934-640x350.jpg\n",
      "--------\n",
      "https://www.jpl.nasa.gov/spaceimages/images/wallpaper/PIA23933-640x350.jpg\n",
      "--------\n",
      "https://www.jpl.nasa.gov/spaceimages/images/wallpaper/PIA23932-640x350.jpg\n",
      "--------\n",
      "--------\n",
      "Count of images in the webpage 32\n"
     ]
    }
   ],
   "source": [
    "\n",
    "# HTML object\n",
    "html = browser.html\n",
    "# Parse HTML with Beautiful Soup\n",
    "soup = BeautifulSoup(html, 'html.parser')\n",
    "\n",
    "# Examine the results, then determine element that contains sought info\n",
    "info = soup.find_all('div', class_=\"img\")\n",
    "\n",
    "\n",
    "#Assign the url string to a variable called featured_image_url\n",
    "#Create a container for the data that will be scraped\n",
    "featured_image_url= []\n",
    "\n",
    "# Loop through returned results\n",
    "for x in info:\n",
    "\n",
    "    image = x.find('img')\n",
    "    image_loc = image['src']\n",
    "    \n",
    "    print('https://www.jpl.nasa.gov' + image_loc)  \n",
    "    \n",
    "    featured_image_url.append('https://www.jpl.nasa.gov' + image_loc)\n",
    "    print('--------')\n",
    "        \n",
    "    \n",
    "print('--------')\n",
    "print(f\"Count of images in the webpage {len(featured_image_url)}\")"
   ]
  },
  {
   "cell_type": "code",
   "execution_count": 10,
   "metadata": {},
   "outputs": [
    {
     "name": "stdout",
     "output_type": "stream",
     "text": [
      "['https://www.jpl.nasa.gov/spaceimages/images/wallpaper/PIA23960-640x350.jpg', 'https://www.jpl.nasa.gov/spaceimages/images/wallpaper/PIA23959-640x350.jpg', 'https://www.jpl.nasa.gov/spaceimages/images/wallpaper/PIA23958-640x350.jpg', 'https://www.jpl.nasa.gov/spaceimages/images/wallpaper/PIA23957-640x350.jpg', 'https://www.jpl.nasa.gov/spaceimages/images/wallpaper/PIA23956-640x350.jpg', 'https://www.jpl.nasa.gov/spaceimages/images/wallpaper/PIA23950-640x350.jpg', 'https://www.jpl.nasa.gov/spaceimages/images/wallpaper/PIA23949-640x350.jpg', 'https://www.jpl.nasa.gov/spaceimages/images/wallpaper/PIA23948-640x350.jpg', 'https://www.jpl.nasa.gov/spaceimages/images/wallpaper/PIA23900-640x350.jpg', 'https://www.jpl.nasa.gov/spaceimages/images/wallpaper/PIA23947-640x350.jpg', 'https://www.jpl.nasa.gov/spaceimages/images/wallpaper/PIA23899-640x350.jpg', 'https://www.jpl.nasa.gov/spaceimages/images/wallpaper/PIA23946-640x350.jpg', 'https://www.jpl.nasa.gov/spaceimages/images/wallpaper/PIA23897-640x350.jpg', 'https://www.jpl.nasa.gov/spaceimages/images/wallpaper/PIA23945-640x350.jpg', 'https://www.jpl.nasa.gov/spaceimages/images/wallpaper/PIA23944-640x350.jpg', 'https://www.jpl.nasa.gov/spaceimages/images/wallpaper/PIA23943-640x350.jpg', 'https://www.jpl.nasa.gov/spaceimages/images/wallpaper/PIA23942-640x350.jpg', 'https://www.jpl.nasa.gov/spaceimages/images/wallpaper/PIA23893-640x350.jpg', 'https://www.jpl.nasa.gov/spaceimages/images/wallpaper/PIA23941-640x350.jpg', 'https://www.jpl.nasa.gov/spaceimages/images/wallpaper/PIA23940-640x350.jpg', 'https://www.jpl.nasa.gov/spaceimages/images/wallpaper/PIA23939-640x350.jpg', 'https://www.jpl.nasa.gov/spaceimages/images/wallpaper/PIA23938-640x350.jpg', 'https://www.jpl.nasa.gov/spaceimages/images/wallpaper/PIA23954-640x350.jpg', 'https://www.jpl.nasa.gov/spaceimages/images/wallpaper/PIA23953-640x350.jpg', 'https://www.jpl.nasa.gov/spaceimages/images/wallpaper/PIA23952-640x350.jpg', 'https://www.jpl.nasa.gov/spaceimages/images/wallpaper/PIA23951-640x350.jpg', 'https://www.jpl.nasa.gov/spaceimages/images/wallpaper/PIA23937-640x350.jpg', 'https://www.jpl.nasa.gov/spaceimages/images/wallpaper/PIA23936-640x350.jpg', 'https://www.jpl.nasa.gov/spaceimages/images/wallpaper/PIA23935-640x350.jpg', 'https://www.jpl.nasa.gov/spaceimages/images/wallpaper/PIA23934-640x350.jpg', 'https://www.jpl.nasa.gov/spaceimages/images/wallpaper/PIA23933-640x350.jpg', 'https://www.jpl.nasa.gov/spaceimages/images/wallpaper/PIA23932-640x350.jpg']\n"
     ]
    }
   ],
   "source": [
    "#Inspect data\n",
    "print (featured_image_url)"
   ]
  },
  {
   "cell_type": "code",
   "execution_count": 11,
   "metadata": {},
   "outputs": [],
   "source": [
    "#import dataframe to convert the list to df\n",
    "from pandas import DataFrame"
   ]
  },
  {
   "cell_type": "code",
   "execution_count": 12,
   "metadata": {},
   "outputs": [
    {
     "name": "stdout",
     "output_type": "stream",
     "text": [
      "                                 Featured Mars Images\n",
      "0   https://www.jpl.nasa.gov/spaceimages/images/wa...\n",
      "1   https://www.jpl.nasa.gov/spaceimages/images/wa...\n",
      "2   https://www.jpl.nasa.gov/spaceimages/images/wa...\n",
      "3   https://www.jpl.nasa.gov/spaceimages/images/wa...\n",
      "4   https://www.jpl.nasa.gov/spaceimages/images/wa...\n",
      "5   https://www.jpl.nasa.gov/spaceimages/images/wa...\n",
      "6   https://www.jpl.nasa.gov/spaceimages/images/wa...\n",
      "7   https://www.jpl.nasa.gov/spaceimages/images/wa...\n",
      "8   https://www.jpl.nasa.gov/spaceimages/images/wa...\n",
      "9   https://www.jpl.nasa.gov/spaceimages/images/wa...\n",
      "10  https://www.jpl.nasa.gov/spaceimages/images/wa...\n",
      "11  https://www.jpl.nasa.gov/spaceimages/images/wa...\n",
      "12  https://www.jpl.nasa.gov/spaceimages/images/wa...\n",
      "13  https://www.jpl.nasa.gov/spaceimages/images/wa...\n",
      "14  https://www.jpl.nasa.gov/spaceimages/images/wa...\n",
      "15  https://www.jpl.nasa.gov/spaceimages/images/wa...\n",
      "16  https://www.jpl.nasa.gov/spaceimages/images/wa...\n",
      "17  https://www.jpl.nasa.gov/spaceimages/images/wa...\n",
      "18  https://www.jpl.nasa.gov/spaceimages/images/wa...\n",
      "19  https://www.jpl.nasa.gov/spaceimages/images/wa...\n",
      "20  https://www.jpl.nasa.gov/spaceimages/images/wa...\n",
      "21  https://www.jpl.nasa.gov/spaceimages/images/wa...\n",
      "22  https://www.jpl.nasa.gov/spaceimages/images/wa...\n",
      "23  https://www.jpl.nasa.gov/spaceimages/images/wa...\n",
      "24  https://www.jpl.nasa.gov/spaceimages/images/wa...\n",
      "25  https://www.jpl.nasa.gov/spaceimages/images/wa...\n",
      "26  https://www.jpl.nasa.gov/spaceimages/images/wa...\n",
      "27  https://www.jpl.nasa.gov/spaceimages/images/wa...\n",
      "28  https://www.jpl.nasa.gov/spaceimages/images/wa...\n",
      "29  https://www.jpl.nasa.gov/spaceimages/images/wa...\n",
      "30  https://www.jpl.nasa.gov/spaceimages/images/wa...\n",
      "31  https://www.jpl.nasa.gov/spaceimages/images/wa...\n"
     ]
    }
   ],
   "source": [
    "featured_df = DataFrame (featured_image_url, columns=['Featured Mars Images'])\n",
    "print(featured_df)"
   ]
  },
  {
   "cell_type": "code",
   "execution_count": 13,
   "metadata": {},
   "outputs": [],
   "source": [
    "#Save the df as CSV file \n",
    "featured_df.to_csv(\"Saved Output/featured_image_url.csv\", index=False)"
   ]
  },
  {
   "cell_type": "markdown",
   "metadata": {},
   "source": [
    "# Mars Weather"
   ]
  },
  {
   "cell_type": "code",
   "execution_count": 14,
   "metadata": {},
   "outputs": [],
   "source": [
    "# URL of page to be scraped\n",
    "url = 'https://twitter.com/marswxreport?lang=en'\n",
    "browser.visit(url)\n",
    "time.sleep(2)"
   ]
  },
  {
   "cell_type": "code",
   "execution_count": 15,
   "metadata": {},
   "outputs": [
    {
     "name": "stdout",
     "output_type": "stream",
     "text": [
      "The count of tweet text for Mars's weather is 0\n",
      "The count of tweet text for Mars's weather is 0\n",
      "The count of tweet text for Mars's weather is 0\n",
      "The count of tweet text for Mars's weather is 0\n",
      "The count of tweet text for Mars's weather is 0\n",
      "The count of tweet text for Mars's weather is 0\n",
      "The count of tweet text for Mars's weather is 0\n",
      "The count of tweet text for Mars's weather is 0\n",
      "The count of tweet text for Mars's weather is 0\n",
      "The count of tweet text for Mars's weather is 0\n",
      "The count of tweet text for Mars's weather is 0\n",
      "The count of tweet text for Mars's weather is 0\n",
      "The count of tweet text for Mars's weather is 0\n",
      "The count of tweet text for Mars's weather is 0\n",
      "The count of tweet text for Mars's weather is 0\n",
      "The count of tweet text for Mars's weather is 0\n",
      "The count of tweet text for Mars's weather is 0\n",
      "The count of tweet text for Mars's weather is 0\n",
      "The count of tweet text for Mars's weather is 0\n",
      "The count of tweet text for Mars's weather is 0\n",
      "The count of tweet text for Mars's weather is 0\n",
      "The count of tweet text for Mars's weather is 0\n",
      "The count of tweet text for Mars's weather is 0\n",
      "The count of tweet text for Mars's weather is 0\n",
      "The count of tweet text for Mars's weather is 0\n",
      "The count of tweet text for Mars's weather is 0\n",
      "The count of tweet text for Mars's weather is 0\n",
      "The count of tweet text for Mars's weather is 0\n",
      "The count of tweet text for Mars's weather is 0\n",
      "The count of tweet text for Mars's weather is 0\n",
      "The count of tweet text for Mars's weather is 0\n",
      "The count of tweet text for Mars's weather is 0\n",
      "The count of tweet text for Mars's weather is 0\n",
      "The count of tweet text for Mars's weather is 0\n",
      "The count of tweet text for Mars's weather is 0\n",
      "The count of tweet text for Mars's weather is 0\n",
      "The count of tweet text for Mars's weather is 0\n",
      "The count of tweet text for Mars's weather is 0\n",
      "The count of tweet text for Mars's weather is 0\n",
      "The count of tweet text for Mars's weather is 0\n",
      "The count of tweet text for Mars's weather is 0\n",
      "The count of tweet text for Mars's weather is 0\n",
      "The count of tweet text for Mars's weather is 0\n",
      "The count of tweet text for Mars's weather is 0\n",
      "The count of tweet text for Mars's weather is 0\n",
      "The count of tweet text for Mars's weather is 0\n",
      "The count of tweet text for Mars's weather is 0\n",
      "InSight sol 566 (2020-06-29) low -88.4ºC (-127.1ºF) high -4.2ºC (24.4ºF)\n",
      "winds from the WNW at 5.1 m/s (11.5 mph) gusting to 16.8 m/s (37.6 mph)\n",
      "pressure at 7.70 hPa\n",
      "---------\n",
      "The count of tweet text for Mars's weather is 1\n",
      "The count of tweet text for Mars's weather is 1\n",
      "The count of tweet text for Mars's weather is 1\n",
      "The count of tweet text for Mars's weather is 1\n",
      "The count of tweet text for Mars's weather is 1\n",
      "The count of tweet text for Mars's weather is 1\n",
      "The count of tweet text for Mars's weather is 1\n",
      "The count of tweet text for Mars's weather is 1\n",
      "The count of tweet text for Mars's weather is 1\n",
      "It's our birthday! On this day in 1976, a signal from the Viking 1 spacecraft orbiting Mars triggered the ribbon cutting at the opening of our Museum in DC.\n",
      "---------\n",
      "The count of tweet text for Mars's weather is 2\n",
      "The count of tweet text for Mars's weather is 2\n",
      "The count of tweet text for Mars's weather is 2\n",
      "The count of tweet text for Mars's weather is 2\n",
      "The count of tweet text for Mars's weather is 2\n",
      "The count of tweet text for Mars's weather is 2\n",
      "The count of tweet text for Mars's weather is 2\n",
      "The count of tweet text for Mars's weather is 2\n",
      "The count of tweet text for Mars's weather is 2\n",
      "The count of tweet text for Mars's weather is 2\n",
      "The count of tweet text for Mars's weather is 2\n",
      "The count of tweet text for Mars's weather is 2\n",
      "The count of tweet text for Mars's weather is 2\n",
      "The count of tweet text for Mars's weather is 2\n",
      "The count of tweet text for Mars's weather is 2\n",
      "The count of tweet text for Mars's weather is 2\n",
      "The count of tweet text for Mars's weather is 2\n",
      "The count of tweet text for Mars's weather is 2\n",
      "The count of tweet text for Mars's weather is 2\n",
      "The count of tweet text for Mars's weather is 2\n",
      "The count of tweet text for Mars's weather is 2\n",
      "The count of tweet text for Mars's weather is 2\n",
      "The count of tweet text for Mars's weather is 2\n",
      "The count of tweet text for Mars's weather is 2\n",
      "The count of tweet text for Mars's weather is 2\n",
      "InSight sol 565 (2020-06-28) low -89.6ºC (-129.3ºF) high -5.0ºC (22.9ºF)\n",
      "winds from the WNW at 4.5 m/s (10.0 mph) gusting to 17.6 m/s (39.4 mph)\n",
      "pressure at 7.60 hPa\n",
      "---------\n",
      "The count of tweet text for Mars's weather is 3\n",
      "The count of tweet text for Mars's weather is 3\n",
      "The count of tweet text for Mars's weather is 3\n",
      "The count of tweet text for Mars's weather is 3\n",
      "The count of tweet text for Mars's weather is 3\n",
      "The count of tweet text for Mars's weather is 3\n",
      "The count of tweet text for Mars's weather is 3\n",
      "InSight sol 564 (2020-06-28) low -89.3ºC (-128.8ºF) high -4.3ºC (24.2ºF)\n",
      "winds from the SSW at 5.0 m/s (11.3 mph) gusting to 15.4 m/s (34.4 mph)\n",
      "pressure at 7.70 hPa\n",
      "---------\n",
      "The count of tweet text for Mars's weather is 4\n",
      "The count of tweet text for Mars's weather is 4\n",
      "The count of tweet text for Mars's weather is 4\n",
      "The count of tweet text for Mars's weather is 4\n",
      "The count of tweet text for Mars's weather is 4\n"
     ]
    }
   ],
   "source": [
    "# HTML object\n",
    "html = browser.html\n",
    "# Parse HTML with Beautiful Soup\n",
    "soup = BeautifulSoup(html, 'html.parser')\n",
    "\n",
    "# Examine the results, then determine element that contains sought info\n",
    "info = soup.find_all('span', class_=\"css-901oao css-16my406 r-1qd0xha r-ad9z0x r-bcqeeo r-qvutc0\")\n",
    "\n",
    "#Create a container for the data that will be scraped\n",
    "mars_weather = []\n",
    "   \n",
    "for x in info: \n",
    "    weather = x.text.strip()\n",
    "    if (weather!=\"\" and weather[0]=='I'):\n",
    "        mars_weather.append(weather)\n",
    "        print(weather)\n",
    "        print('---------')\n",
    "        \n",
    "     \n",
    "    print(f\"The count of tweet text for Mars's weather is {len(mars_weather)}\")"
   ]
  },
  {
   "cell_type": "code",
   "execution_count": 16,
   "metadata": {},
   "outputs": [
    {
     "name": "stdout",
     "output_type": "stream",
     "text": [
      "                                 Mars Weather Tweets\n",
      "0  InSight sol 566 (2020-06-29) low -88.4ºC (-127...\n",
      "1  It's our birthday! On this day in 1976, a sign...\n",
      "2  InSight sol 565 (2020-06-28) low -89.6ºC (-129...\n",
      "3  InSight sol 564 (2020-06-28) low -89.3ºC (-128...\n"
     ]
    }
   ],
   "source": [
    "#Save the tweet text for the weather report as a variable called mars_weather\n",
    "mars_weather_df = DataFrame (mars_weather, columns=['Mars Weather Tweets'])\n",
    "print(mars_weather_df)"
   ]
  },
  {
   "cell_type": "code",
   "execution_count": 17,
   "metadata": {},
   "outputs": [],
   "source": [
    "#Save the df as CSV file \n",
    "mars_weather_df.to_csv(\"Saved Output/mars_weather.csv\", index=False)"
   ]
  },
  {
   "cell_type": "markdown",
   "metadata": {},
   "source": [
    "\n",
    "# Mars Facts"
   ]
  },
  {
   "cell_type": "code",
   "execution_count": 18,
   "metadata": {},
   "outputs": [],
   "source": [
    "# URL of page to be scraped\n",
    "url = 'https://space-facts.com/mars/'"
   ]
  },
  {
   "cell_type": "code",
   "execution_count": 19,
   "metadata": {},
   "outputs": [
    {
     "data": {
      "text/plain": [
       "[                      0                              1\n",
       " 0  Equatorial Diameter:                       6,792 km\n",
       " 1       Polar Diameter:                       6,752 km\n",
       " 2                 Mass:  6.39 × 10^23 kg (0.11 Earths)\n",
       " 3                Moons:            2 (Phobos & Deimos)\n",
       " 4       Orbit Distance:       227,943,824 km (1.38 AU)\n",
       " 5         Orbit Period:           687 days (1.9 years)\n",
       " 6  Surface Temperature:                   -87 to -5 °C\n",
       " 7         First Record:              2nd millennium BC\n",
       " 8          Recorded By:           Egyptian astronomers,\n",
       "   Mars - Earth Comparison             Mars            Earth\n",
       " 0               Diameter:         6,779 km        12,742 km\n",
       " 1                   Mass:  6.39 × 10^23 kg  5.97 × 10^24 kg\n",
       " 2                  Moons:                2                1\n",
       " 3      Distance from Sun:   227,943,824 km   149,598,262 km\n",
       " 4         Length of Year:   687 Earth days      365.24 days\n",
       " 5            Temperature:    -153 to 20 °C      -88 to 58°C,\n",
       "                       0                              1\n",
       " 0  Equatorial Diameter:                       6,792 km\n",
       " 1       Polar Diameter:                       6,752 km\n",
       " 2                 Mass:  6.39 × 10^23 kg (0.11 Earths)\n",
       " 3                Moons:            2 (Phobos & Deimos)\n",
       " 4       Orbit Distance:       227,943,824 km (1.38 AU)\n",
       " 5         Orbit Period:           687 days (1.9 years)\n",
       " 6  Surface Temperature:                   -87 to -5 °C\n",
       " 7         First Record:              2nd millennium BC\n",
       " 8          Recorded By:           Egyptian astronomers]"
      ]
     },
     "execution_count": 19,
     "metadata": {},
     "output_type": "execute_result"
    }
   ],
   "source": [
    "#Read and inspect the data\n",
    "mars_facts = pd.read_html(url)\n",
    "mars_facts"
   ]
  },
  {
   "cell_type": "code",
   "execution_count": 20,
   "metadata": {},
   "outputs": [
    {
     "data": {
      "text/html": [
       "<div>\n",
       "<style scoped>\n",
       "    .dataframe tbody tr th:only-of-type {\n",
       "        vertical-align: middle;\n",
       "    }\n",
       "\n",
       "    .dataframe tbody tr th {\n",
       "        vertical-align: top;\n",
       "    }\n",
       "\n",
       "    .dataframe thead th {\n",
       "        text-align: right;\n",
       "    }\n",
       "</style>\n",
       "<table border=\"1\" class=\"dataframe\">\n",
       "  <thead>\n",
       "    <tr style=\"text-align: right;\">\n",
       "      <th></th>\n",
       "      <th>0</th>\n",
       "      <th>1</th>\n",
       "    </tr>\n",
       "  </thead>\n",
       "  <tbody>\n",
       "    <tr>\n",
       "      <th>0</th>\n",
       "      <td>Equatorial Diameter:</td>\n",
       "      <td>6,792 km</td>\n",
       "    </tr>\n",
       "    <tr>\n",
       "      <th>1</th>\n",
       "      <td>Polar Diameter:</td>\n",
       "      <td>6,752 km</td>\n",
       "    </tr>\n",
       "    <tr>\n",
       "      <th>2</th>\n",
       "      <td>Mass:</td>\n",
       "      <td>6.39 × 10^23 kg (0.11 Earths)</td>\n",
       "    </tr>\n",
       "    <tr>\n",
       "      <th>3</th>\n",
       "      <td>Moons:</td>\n",
       "      <td>2 (Phobos &amp; Deimos)</td>\n",
       "    </tr>\n",
       "    <tr>\n",
       "      <th>4</th>\n",
       "      <td>Orbit Distance:</td>\n",
       "      <td>227,943,824 km (1.38 AU)</td>\n",
       "    </tr>\n",
       "  </tbody>\n",
       "</table>\n",
       "</div>"
      ],
      "text/plain": [
       "                      0                              1\n",
       "0  Equatorial Diameter:                       6,792 km\n",
       "1       Polar Diameter:                       6,752 km\n",
       "2                 Mass:  6.39 × 10^23 kg (0.11 Earths)\n",
       "3                Moons:            2 (Phobos & Deimos)\n",
       "4       Orbit Distance:       227,943,824 km (1.38 AU)"
      ]
     },
     "execution_count": 20,
     "metadata": {},
     "output_type": "execute_result"
    }
   ],
   "source": [
    "#Convert list to dataframe\n",
    "mars_facts_df = mars_facts[0]\n",
    "mars_facts_df.head()"
   ]
  },
  {
   "cell_type": "code",
   "execution_count": 21,
   "metadata": {},
   "outputs": [
    {
     "data": {
      "text/html": [
       "<div>\n",
       "<style scoped>\n",
       "    .dataframe tbody tr th:only-of-type {\n",
       "        vertical-align: middle;\n",
       "    }\n",
       "\n",
       "    .dataframe tbody tr th {\n",
       "        vertical-align: top;\n",
       "    }\n",
       "\n",
       "    .dataframe thead th {\n",
       "        text-align: right;\n",
       "    }\n",
       "</style>\n",
       "<table border=\"1\" class=\"dataframe\">\n",
       "  <thead>\n",
       "    <tr style=\"text-align: right;\">\n",
       "      <th></th>\n",
       "      <th>Unit</th>\n",
       "      <th>Measure</th>\n",
       "    </tr>\n",
       "  </thead>\n",
       "  <tbody>\n",
       "    <tr>\n",
       "      <th>0</th>\n",
       "      <td>Equatorial Diameter:</td>\n",
       "      <td>6,792 km</td>\n",
       "    </tr>\n",
       "    <tr>\n",
       "      <th>1</th>\n",
       "      <td>Polar Diameter:</td>\n",
       "      <td>6,752 km</td>\n",
       "    </tr>\n",
       "    <tr>\n",
       "      <th>2</th>\n",
       "      <td>Mass:</td>\n",
       "      <td>6.39 × 10^23 kg (0.11 Earths)</td>\n",
       "    </tr>\n",
       "    <tr>\n",
       "      <th>3</th>\n",
       "      <td>Moons:</td>\n",
       "      <td>2 (Phobos &amp; Deimos)</td>\n",
       "    </tr>\n",
       "    <tr>\n",
       "      <th>4</th>\n",
       "      <td>Orbit Distance:</td>\n",
       "      <td>227,943,824 km (1.38 AU)</td>\n",
       "    </tr>\n",
       "    <tr>\n",
       "      <th>5</th>\n",
       "      <td>Orbit Period:</td>\n",
       "      <td>687 days (1.9 years)</td>\n",
       "    </tr>\n",
       "    <tr>\n",
       "      <th>6</th>\n",
       "      <td>Surface Temperature:</td>\n",
       "      <td>-87 to -5 °C</td>\n",
       "    </tr>\n",
       "    <tr>\n",
       "      <th>7</th>\n",
       "      <td>First Record:</td>\n",
       "      <td>2nd millennium BC</td>\n",
       "    </tr>\n",
       "    <tr>\n",
       "      <th>8</th>\n",
       "      <td>Recorded By:</td>\n",
       "      <td>Egyptian astronomers</td>\n",
       "    </tr>\n",
       "  </tbody>\n",
       "</table>\n",
       "</div>"
      ],
      "text/plain": [
       "                   Unit                        Measure\n",
       "0  Equatorial Diameter:                       6,792 km\n",
       "1       Polar Diameter:                       6,752 km\n",
       "2                 Mass:  6.39 × 10^23 kg (0.11 Earths)\n",
       "3                Moons:            2 (Phobos & Deimos)\n",
       "4       Orbit Distance:       227,943,824 km (1.38 AU)\n",
       "5         Orbit Period:           687 days (1.9 years)\n",
       "6  Surface Temperature:                   -87 to -5 °C\n",
       "7         First Record:              2nd millennium BC\n",
       "8          Recorded By:           Egyptian astronomers"
      ]
     },
     "execution_count": 21,
     "metadata": {},
     "output_type": "execute_result"
    }
   ],
   "source": [
    "#Rename the column titles\n",
    "mars_facts_df = mars_facts_df.rename(columns={0:\"Unit\", 1:\"Measure\"})\n",
    "mars_facts_df"
   ]
  },
  {
   "cell_type": "code",
   "execution_count": 22,
   "metadata": {},
   "outputs": [],
   "source": [
    "#Save the dataframe to html\n",
    "mars_facts_html = mars_facts_df.to_html('Saved Output/mars_facts.html')"
   ]
  },
  {
   "cell_type": "markdown",
   "metadata": {},
   "source": [
    "# Mars Hemispheres"
   ]
  },
  {
   "cell_type": "code",
   "execution_count": 23,
   "metadata": {},
   "outputs": [],
   "source": [
    "# URL of page to be scraped\n",
    "url = 'https://astrogeology.usgs.gov/search/results?q=hemisphere+enhanced&k1=target&v1=Mars'\n",
    "browser.visit(url)"
   ]
  },
  {
   "cell_type": "code",
   "execution_count": 24,
   "metadata": {},
   "outputs": [],
   "source": [
    "# HTML object\n",
    "html = browser.html\n",
    "# Parse HTML with Beautiful Soup\n",
    "soup = BeautifulSoup(html, 'html.parser')"
   ]
  },
  {
   "cell_type": "code",
   "execution_count": 25,
   "metadata": {},
   "outputs": [
    {
     "data": {
      "text/plain": [
       "[<div class=\"item\"><a class=\"itemLink product-item\" href=\"/search/map/Mars/Viking/cerberus_enhanced\"><img alt=\"Cerberus Hemisphere Enhanced thumbnail\" class=\"thumb\" src=\"/cache/images/39d3266553462198bd2fbc4d18fbed17_cerberus_enhanced.tif_thumb.png\"/></a><div class=\"description\"><a class=\"itemLink product-item\" href=\"/search/map/Mars/Viking/cerberus_enhanced\"><h3>Cerberus Hemisphere Enhanced</h3></a><span class=\"subtitle\" style=\"float:left\">image/tiff 21 MB</span><span class=\"pubDate\" style=\"float:right\"></span><br/><p>Mosaic of the Cerberus hemisphere of Mars projected into point perspective, a view similar to that which one would see from a spacecraft. This mosaic is composed of 104 Viking Orbiter images acquired…</p></div> <!-- end description --></div>,\n",
       " <div class=\"item\"><a class=\"itemLink product-item\" href=\"/search/map/Mars/Viking/schiaparelli_enhanced\"><img alt=\"Schiaparelli Hemisphere Enhanced thumbnail\" class=\"thumb\" src=\"/cache/images/08eac6e22c07fb1fe72223a79252de20_schiaparelli_enhanced.tif_thumb.png\"/></a><div class=\"description\"><a class=\"itemLink product-item\" href=\"/search/map/Mars/Viking/schiaparelli_enhanced\"><h3>Schiaparelli Hemisphere Enhanced</h3></a><span class=\"subtitle\" style=\"float:left\">image/tiff 35 MB</span><span class=\"pubDate\" style=\"float:right\"></span><br/><p>Mosaic of the Schiaparelli hemisphere of Mars projected into point perspective, a view similar to that which one would see from a spacecraft. The images were acquired in 1980 during early northern…</p></div> <!-- end description --></div>,\n",
       " <div class=\"item\"><a class=\"itemLink product-item\" href=\"/search/map/Mars/Viking/syrtis_major_enhanced\"><img alt=\"Syrtis Major Hemisphere Enhanced thumbnail\" class=\"thumb\" src=\"/cache/images/55a0a1e2796313fdeafb17c35925e8ac_syrtis_major_enhanced.tif_thumb.png\"/></a><div class=\"description\"><a class=\"itemLink product-item\" href=\"/search/map/Mars/Viking/syrtis_major_enhanced\"><h3>Syrtis Major Hemisphere Enhanced</h3></a><span class=\"subtitle\" style=\"float:left\">image/tiff 25 MB</span><span class=\"pubDate\" style=\"float:right\"></span><br/><p>Mosaic of the Syrtis Major hemisphere of Mars projected into point perspective, a view similar to that which one would see from a spacecraft. This mosaic is composed of about 100 red and violet…</p></div> <!-- end description --></div>,\n",
       " <div class=\"item\"><a class=\"itemLink product-item\" href=\"/search/map/Mars/Viking/valles_marineris_enhanced\"><img alt=\"Valles Marineris Hemisphere Enhanced thumbnail\" class=\"thumb\" src=\"/cache/images/4e59980c1c57f89c680c0e1ccabbeff1_valles_marineris_enhanced.tif_thumb.png\"/></a><div class=\"description\"><a class=\"itemLink product-item\" href=\"/search/map/Mars/Viking/valles_marineris_enhanced\"><h3>Valles Marineris Hemisphere Enhanced</h3></a><span class=\"subtitle\" style=\"float:left\">image/tiff 27 MB</span><span class=\"pubDate\" style=\"float:right\"></span><br/><p>Mosaic of the Valles Marineris hemisphere of Mars projected into point perspective, a view similar to that which one would see from a spacecraft. The distance is 2500 kilometers from the surface of…</p></div> <!-- end description --></div>]"
      ]
     },
     "execution_count": 25,
     "metadata": {},
     "output_type": "execute_result"
    }
   ],
   "source": [
    "# Examine the results, then determine element that contains sought info\n",
    "info = soup.find_all('div', class_=\"item\")\n",
    "info"
   ]
  },
  {
   "cell_type": "code",
   "execution_count": 26,
   "metadata": {},
   "outputs": [
    {
     "name": "stdout",
     "output_type": "stream",
     "text": [
      "https://astrogeology.usgs.gov/search/map/Mars/Viking/cerberus_enhanced\n",
      "--------\n",
      "https://astrogeology.usgs.gov/search/map/Mars/Viking/schiaparelli_enhanced\n",
      "--------\n",
      "https://astrogeology.usgs.gov/search/map/Mars/Viking/syrtis_major_enhanced\n",
      "--------\n",
      "https://astrogeology.usgs.gov/search/map/Mars/Viking/valles_marineris_enhanced\n",
      "--------\n"
     ]
    }
   ],
   "source": [
    "#Create a container for the data that will be scraped\n",
    "hemisphere_details = []\n",
    "   \n",
    "#Loop through the returned results for Hemisphere name    \n",
    "for x in info:\n",
    "\n",
    "    description = x.find('div', class_=\"description\")\n",
    "    h3 = description.find('h3').text.strip()\n",
    "    \n",
    "    a = x.find('a')\n",
    "    href = a['href']\n",
    "    \n",
    "    hemisphere_name_url = 'https://astrogeology.usgs.gov' + href\n",
    "    print(hemisphere_name_url)\n",
    "    \n",
    "    hemisphere_details.append('https://astrogeology.usgs.gov' + href)\n",
    "    print('--------')   \n"
   ]
  },
  {
   "cell_type": "code",
   "execution_count": 27,
   "metadata": {},
   "outputs": [
    {
     "data": {
      "text/plain": [
       "['https://astrogeology.usgs.gov/search/map/Mars/Viking/cerberus_enhanced',\n",
       " 'https://astrogeology.usgs.gov/search/map/Mars/Viking/schiaparelli_enhanced',\n",
       " 'https://astrogeology.usgs.gov/search/map/Mars/Viking/syrtis_major_enhanced',\n",
       " 'https://astrogeology.usgs.gov/search/map/Mars/Viking/valles_marineris_enhanced']"
      ]
     },
     "execution_count": 27,
     "metadata": {},
     "output_type": "execute_result"
    }
   ],
   "source": [
    "hemisphere_details"
   ]
  },
  {
   "cell_type": "code",
   "execution_count": 28,
   "metadata": {},
   "outputs": [
    {
     "name": "stdout",
     "output_type": "stream",
     "text": [
      "https://astrogeology.usgs.gov/search/map/Mars/Viking/cerberus_enhanced\n",
      "title: Cerberus Hemisphere Enhanced\n",
      "image_url: https://astrogeology.usgs.gov/cache/images/f5e372a36edfa389625da6d0cc25d905_cerberus_enhanced.tif_full.jpg\n",
      "-----------\n",
      "https://astrogeology.usgs.gov/search/map/Mars/Viking/schiaparelli_enhanced\n",
      "title: Schiaparelli Hemisphere Enhanced\n",
      "image_url: https://astrogeology.usgs.gov/cache/images/3778f7b43bbbc89d6e3cfabb3613ba93_schiaparelli_enhanced.tif_full.jpg\n",
      "-----------\n",
      "https://astrogeology.usgs.gov/search/map/Mars/Viking/syrtis_major_enhanced\n",
      "title: Syrtis Major Hemisphere Enhanced\n",
      "image_url: https://astrogeology.usgs.gov/cache/images/555e6403a6ddd7ba16ddb0e471cadcf7_syrtis_major_enhanced.tif_full.jpg\n",
      "-----------\n",
      "https://astrogeology.usgs.gov/search/map/Mars/Viking/valles_marineris_enhanced\n",
      "title: Valles Marineris Hemisphere Enhanced\n",
      "image_url: https://astrogeology.usgs.gov/cache/images/b3c7c6c9138f57b4756be9b9c43e3a48_valles_marineris_enhanced.tif_full.jpg\n",
      "-----------\n",
      "The 4 images and their links\n"
     ]
    }
   ],
   "source": [
    "import requests\n",
    "import time\n",
    "\n",
    "\n",
    "hemisph_images = {}\n",
    "   \n",
    "# HTML object\n",
    "html = browser.html\n",
    "# Parse HTML with Beautiful Soup\n",
    "soup = BeautifulSoup(html, 'html.parser')\n",
    "\n",
    "# Retrieve all elements that contain articles information\n",
    "info = soup.find_all('div', class_=\"item\")\n",
    "\n",
    "for x in info:\n",
    "\n",
    "    description = x.find('div', class_=\"description\")\n",
    "    h3 = description.find('h3').text.strip()\n",
    "    \n",
    "    link = x.find('a')\n",
    "    href = link['href']\n",
    "    \n",
    "    links = 'https://astrogeology.usgs.gov' + href\n",
    "    print(links)\n",
    "    \n",
    "    browser.visit(links)\n",
    "    time.sleep(2)\n",
    "    \n",
    "    html = browser.html\n",
    "    soup = BeautifulSoup(html, 'html.parser')\n",
    "    \n",
    "    info_image = soup.find_all('img', class_=\"wide-image\")\n",
    "    \n",
    "    src =  info_image[0]['src']\n",
    "    \n",
    "    hemisph_images.update( {h3 : 'https://astrogeology.usgs.gov' + src} )\n",
    "    print('title:',h3)\n",
    "    print('image_url:','https://astrogeology.usgs.gov' + src)\n",
    "    print('-----------')\n",
    "        \n",
    "print(f\"The {len(hemisph_images)} images and their links\")"
   ]
  },
  {
   "cell_type": "code",
   "execution_count": 28,
   "metadata": {},
   "outputs": [
    {
     "ename": "TypeError",
     "evalue": "'DataFrame' object is not callable",
     "output_type": "error",
     "traceback": [
      "\u001b[1;31m---------------------------------------------------------------------------\u001b[0m",
      "\u001b[1;31mTypeError\u001b[0m                                 Traceback (most recent call last)",
      "\u001b[1;32m<ipython-input-28-3777f3ddba2a>\u001b[0m in \u001b[0;36m<module>\u001b[1;34m\u001b[0m\n\u001b[0;32m      1\u001b[0m \u001b[0mmars_info\u001b[0m \u001b[1;33m=\u001b[0m \u001b[1;33m{\u001b[0m\u001b[1;33m}\u001b[0m\u001b[1;33m\u001b[0m\u001b[1;33m\u001b[0m\u001b[0m\n\u001b[1;32m----> 2\u001b[1;33m \u001b[0mnasa_news\u001b[0m \u001b[1;33m=\u001b[0m \u001b[0mnews_mars\u001b[0m\u001b[1;33m(\u001b[0m\u001b[1;33m)\u001b[0m\u001b[1;33m\u001b[0m\u001b[1;33m\u001b[0m\u001b[0m\n\u001b[0m\u001b[0;32m      3\u001b[0m \u001b[0mmars_info\u001b[0m\u001b[1;33m[\u001b[0m\u001b[1;34m\"title\"\u001b[0m\u001b[1;33m]\u001b[0m \u001b[1;33m=\u001b[0m \u001b[0mnews_title\u001b[0m\u001b[1;33m\u001b[0m\u001b[1;33m\u001b[0m\u001b[0m\n\u001b[0;32m      4\u001b[0m \u001b[0mmars_info\u001b[0m\u001b[1;33m[\u001b[0m\u001b[1;34m\"par\"\u001b[0m\u001b[1;33m]\u001b[0m \u001b[1;33m=\u001b[0m \u001b[0mnews_p\u001b[0m\u001b[1;33m\u001b[0m\u001b[1;33m\u001b[0m\u001b[0m\n\u001b[0;32m      5\u001b[0m \u001b[0mmars_info\u001b[0m\u001b[1;33m[\u001b[0m\u001b[1;34m\"featured_image_url\"\u001b[0m\u001b[1;33m]\u001b[0m \u001b[1;33m=\u001b[0m \u001b[0mfeatured_df\u001b[0m\u001b[1;33m(\u001b[0m\u001b[1;33m)\u001b[0m\u001b[1;33m\u001b[0m\u001b[1;33m\u001b[0m\u001b[0m\n",
      "\u001b[1;31mTypeError\u001b[0m: 'DataFrame' object is not callable"
     ]
    }
   ],
   "source": [
    "mars_info = {}\n",
    "nasa_news = news_mars()\n",
    "mars_info[\"title\"] = news_title\n",
    "mars_info[\"par\"] = news_p\n",
    "mars_info[\"featured_image_url\"] = featured_df()\n",
    "mars_info[\"mars_weather\"] = mars_weather_df()\n",
    "mars_info[\"mars_table\"] = mars_facts_df()\n",
    "mars_info[\"hem_title_urls\"] = hemisph_images()\n",
    "\n"
   ]
  },
  {
   "cell_type": "code",
   "execution_count": null,
   "metadata": {},
   "outputs": [],
   "source": []
  }
 ],
 "metadata": {
  "kernelspec": {
   "display_name": "Python 3",
   "language": "python",
   "name": "python3"
  },
  "language_info": {
   "codemirror_mode": {
    "name": "ipython",
    "version": 3
   },
   "file_extension": ".py",
   "mimetype": "text/x-python",
   "name": "python",
   "nbconvert_exporter": "python",
   "pygments_lexer": "ipython3",
   "version": "3.8.2"
  }
 },
 "nbformat": 4,
 "nbformat_minor": 4
}
