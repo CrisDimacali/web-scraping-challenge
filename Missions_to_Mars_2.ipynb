{
 "cells": [
  {
   "cell_type": "code",
   "execution_count": 13,
   "metadata": {},
   "outputs": [],
   "source": [
    "\n",
    "# Step 1 - Complete your initial scraping using Jupyter Notebook, BeautifulSoup, Pandas, and Requests/Splinter.\n",
    "from bs4 import BeautifulSoup\n",
    "import pymongo\n",
    "from splinter import Browser\n",
    "import pandas as pd\n",
    "import time"
   ]
  },
  {
   "cell_type": "code",
   "execution_count": 14,
   "metadata": {},
   "outputs": [],
   "source": [
    "#Scrape the NASA Mars News Site and collect the latest News Title and Paragraph Text.\n",
    "#Assign the text to variables that you can reference later.\n",
    "def init_browser():\n",
    "    # @NOTE: Replace the path with your actual path to the chromedriver\n",
    "    import os\n",
    "    if os.name==\"nt\":\n",
    "        executable_path = {'executable_path': './chromedriver.exe'}\n",
    "    else:\n",
    "        executable_path = {\"executable_path\": \"/usr/local/bin/chromedriver\"}\n",
    "    return Browser(\"chrome\", **executable_path, headless=False)"
   ]
  },
  {
   "cell_type": "code",
   "execution_count": 20,
   "metadata": {},
   "outputs": [],
   "source": [
    "def news():\n",
    "    browser = init_browser()\n",
    "    nasa_url = 'https://mars.nasa.gov/news'\n",
    "    browser.visit(nasa_url)\n",
    "    time.sleep(5)\n",
    "    # HTML object\n",
    "    html = browser.html\n",
    "    # Parse HTML with Beautiful Soup\n",
    "    soup = BeautifulSoup(html, 'lxml')\n",
    "    mars_news  = []\n",
    "    for x in soup.find_all('li', class_='slide'):\n",
    "        news_title = x.find_all('div', class_='content_title')[0].text\n",
    "        news_p = x.find_all('div', class_='article_teaser_body')[0].text\n",
    "        mars_news =  [news_title, news_p]\n",
    "        break\n",
    "    browser.quit()\n",
    "    return mars_news "
   ]
  },
  {
   "cell_type": "code",
   "execution_count": 21,
   "metadata": {},
   "outputs": [],
   "source": [
    "def featured_mars():\n",
    "    browser = init_browser()\n",
    "    url = 'https://www.jpl.nasa.gov/spaceimages/?search=&category=Mars'\n",
    "    browser.visit(url)\n",
    "    time.sleep(5)\n",
    "    # HTML object\n",
    "    html = browser.html\n",
    "    # Parse HTML with Beautiful Soup\n",
    "    soup = BeautifulSoup(html, 'lxml')\n",
    "    image = soup.find('article', class_='carousel_item')['style']\n",
    "    mars_image =image.replace('background-image: url(', '').replace(');','')[1:-1]\n",
    "    url2 = 'https://www.jpl.nasa.gov'\n",
    "    featured_image_url = url2 + mars_image\n",
    "    browser.quit()\n",
    "    return featured_image_url  \n"
   ]
  },
  {
   "cell_type": "code",
   "execution_count": 22,
   "metadata": {},
   "outputs": [],
   "source": [
    "def mars_weather():\n",
    "    browser = init_browser()\n",
    "    twitter = 'https://twitter.com/marswxreport?lang=en'\n",
    "    browser.visit(twitter)\n",
    "    time.sleep(5)\n",
    "    html = browser.html\n",
    "    soup = BeautifulSoup(html, 'lxml')\n",
    "    mars_weather = soup.find_all('span')\n",
    "    for i in mars_weather:\n",
    "        if 'InSight sol' in i.text:\n",
    "            mars_weather = i.text\n",
    "            break\n",
    "    browser.quit()\n",
    "    return mars_weather \n"
   ]
  },
  {
   "cell_type": "code",
   "execution_count": 23,
   "metadata": {},
   "outputs": [],
   "source": [
    "def mars_facts_table():\n",
    "    f_url = 'https://space-facts.com/mars/'\n",
    "    f_tables = pd.read_html(f_url)\n",
    "    mars_facts = f_tables[0]\n",
    "    mars_facts.columns = [\"Description\", \"Value\"]\n",
    "    mars_facts = mars_facts.set_index(\"Description\")\n",
    "    mars_table = mars_facts.to_html()\n",
    "    return mars_table"
   ]
  },
  {
   "cell_type": "code",
   "execution_count": 24,
   "metadata": {},
   "outputs": [],
   "source": [
    "def mars_hems_imgs():\n",
    "    browser = init_browser()\n",
    "    h_url ='https://astrogeology.usgs.gov/search/results?q=hemisphere+enhanced&k1=target&v1=Mars'\n",
    "    browser.visit(h_url)\n",
    "    \n",
    "    html = browser.html\n",
    "    soup = BeautifulSoup(html, 'html.parser')\n",
    "    results = soup.find_all('div', class_='item')\n",
    "    \n",
    "    hemisphere_urls  = []\n",
    "    main_url = 'https://astrogeology.usgs.gov'  \n",
    "    for y in results:\n",
    "        title = y.find('h3').text\n",
    "        image_url = y.find('a', class_='itemLink product-item')['href']\n",
    "        image_url = main_url+image_url\n",
    "        browser.visit(image_url)\n",
    "        time.sleep(5)\n",
    "        html = browser.html\n",
    "        soup = BeautifulSoup(html, 'html.parser')\n",
    "        y = browser.links.find_by_text('Sample').first\n",
    "        enhanced_url = y['href']\n",
    "        hem_title_urls.append({\"Title\" : title, \"Image_URL\" : enhanced_url}) \n",
    "    browser.quit()  \n",
    "    return hemisphere_urls\n"
   ]
  },
  {
   "cell_type": "code",
   "execution_count": 25,
   "metadata": {},
   "outputs": [],
   "source": [
    "def scrape_info():\n",
    "    \n",
    "    mars_info = {}\n",
    "    nasa_news = nasa_mars_news()\n",
    "    mars_info[\"title\"] = nasa_news[0]\n",
    "    mars_info[\"par\"] = nasa_news[1]\n",
    "    mars_info[\"featured_image_url\"] = featured_mars_img()\n",
    "    mars_info[\"mars_weather\"] = mars_weather_twitter()\n",
    "    mars_info[\"mars_table\"] = mars_facts_table()\n",
    "    mars_info[\"hem_title_urls\"] = mars_hems_imgs()\n",
    "\n",
    "    # Return results\n",
    "    return mars_info"
   ]
  },
  {
   "cell_type": "code",
   "execution_count": null,
   "metadata": {},
   "outputs": [],
   "source": []
  }
 ],
 "metadata": {
  "kernelspec": {
   "display_name": "Python 3",
   "language": "python",
   "name": "python3"
  },
  "language_info": {
   "codemirror_mode": {
    "name": "ipython",
    "version": 3
   },
   "file_extension": ".py",
   "mimetype": "text/x-python",
   "name": "python",
   "nbconvert_exporter": "python",
   "pygments_lexer": "ipython3",
   "version": "3.8.2"
  }
 },
 "nbformat": 4,
 "nbformat_minor": 4
}
